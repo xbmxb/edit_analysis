{
 "cells": [
  {
   "cell_type": "code",
   "execution_count": 69,
   "metadata": {},
   "outputs": [
    {
     "data": {
      "application/json": {
       "ascii": false,
       "bar_format": null,
       "colour": null,
       "elapsed": 0.004130363464355469,
       "initial": 0,
       "n": 0,
       "ncols": null,
       "nrows": null,
       "postfix": null,
       "prefix": "Loading checkpoint shards",
       "rate": null,
       "total": 2,
       "unit": "it",
       "unit_divisor": 1000,
       "unit_scale": false
      },
      "application/vnd.jupyter.widget-view+json": {
       "model_id": "c23570d184024c3fb6c6f3ca3078f9e2",
       "version_major": 2,
       "version_minor": 0
      },
      "text/plain": [
       "Loading checkpoint shards:   0%|          | 0/2 [00:00<?, ?it/s]"
      ]
     },
     "metadata": {},
     "output_type": "display_data"
    },
    {
     "name": "stderr",
     "output_type": "stream",
     "text": [
      "Some weights of LlamaForCausalLM were not initialized from the model checkpoint at /data/maxb/tag/model_cache/llama-ckpt/llama-2-7b-chat-hf and are newly initialized: ['model.layers.8.self_attn.rotary_emb.inv_freq', 'model.layers.30.self_attn.rotary_emb.inv_freq', 'model.layers.10.self_attn.rotary_emb.inv_freq', 'model.layers.22.self_attn.rotary_emb.inv_freq', 'model.layers.21.self_attn.rotary_emb.inv_freq', 'model.layers.9.self_attn.rotary_emb.inv_freq', 'model.layers.29.self_attn.rotary_emb.inv_freq', 'model.layers.13.self_attn.rotary_emb.inv_freq', 'model.layers.0.self_attn.rotary_emb.inv_freq', 'model.layers.27.self_attn.rotary_emb.inv_freq', 'model.layers.24.self_attn.rotary_emb.inv_freq', 'model.layers.6.self_attn.rotary_emb.inv_freq', 'model.layers.12.self_attn.rotary_emb.inv_freq', 'model.layers.11.self_attn.rotary_emb.inv_freq', 'model.layers.18.self_attn.rotary_emb.inv_freq', 'model.layers.31.self_attn.rotary_emb.inv_freq', 'model.layers.20.self_attn.rotary_emb.inv_freq', 'model.layers.23.self_attn.rotary_emb.inv_freq', 'model.layers.26.self_attn.rotary_emb.inv_freq', 'model.layers.19.self_attn.rotary_emb.inv_freq', 'model.layers.25.self_attn.rotary_emb.inv_freq', 'model.layers.3.self_attn.rotary_emb.inv_freq', 'model.layers.1.self_attn.rotary_emb.inv_freq', 'model.layers.2.self_attn.rotary_emb.inv_freq', 'model.layers.17.self_attn.rotary_emb.inv_freq', 'model.layers.14.self_attn.rotary_emb.inv_freq', 'model.layers.7.self_attn.rotary_emb.inv_freq', 'model.layers.5.self_attn.rotary_emb.inv_freq', 'model.layers.15.self_attn.rotary_emb.inv_freq', 'model.layers.28.self_attn.rotary_emb.inv_freq', 'model.layers.4.self_attn.rotary_emb.inv_freq', 'model.layers.16.self_attn.rotary_emb.inv_freq']\n",
      "You should probably TRAIN this model on a down-stream task to be able to use it for predictions and inference.\n"
     ]
    }
   ],
   "source": [
    "import os, json, jsonlines\n",
    "from transformers import LlamaTokenizer\n",
    "from transformers import LlamaForCausalLM\n",
    "import random\n",
    "import argparse\n",
    "import torch\n",
    "device = 'cuda:6'\n",
    "tokenizer = LlamaTokenizer.from_pretrained(\"/data/maxb/tag/model_cache/llama-ckpt/llama-2-7b-chat-hf\")\n",
    "model = LlamaForCausalLM.from_pretrained(\"/data/maxb/tag/model_cache/llama-ckpt/llama-2-7b-chat-hf\").to(device)\n",
    "tokenizer.pad_token_id = tokenizer.eos_token_id\n",
    "tokenizer.padding_side='left'\n"
   ]
  },
  {
   "cell_type": "code",
   "execution_count": 93,
   "metadata": {},
   "outputs": [],
   "source": [
    "model = None"
   ]
  },
  {
   "cell_type": "code",
   "execution_count": 26,
   "metadata": {},
   "outputs": [],
   "source": [
    "\n",
    "prompt = 'Singled Out debuted on'\n",
    "batch = tokenizer(prompt, return_tensors='pt', padding=True)\n",
    "outputs = model.generate(\n",
    "    input_ids = batch['input_ids'].to(device),\n",
    "    attention_mask = batch['attention_mask'].to(device),\n",
    "    max_new_tokens = 30,\n",
    "    output_scores = True,\n",
    "    return_dict_in_generate = True\n",
    ")\n"
   ]
  },
  {
   "cell_type": "code",
   "execution_count": 27,
   "metadata": {},
   "outputs": [
    {
     "data": {
      "text/plain": [
       "'Singled Out debuted on MTV in 1995 and was hosted by John Norris. The show featured a panel of comedians and musicians who would watch'"
      ]
     },
     "execution_count": 27,
     "metadata": {},
     "output_type": "execute_result"
    }
   ],
   "source": [
    "# outputs.sequences.detach().cpu().numpy().tolist()\n",
    "text = tokenizer.decode(outputs.sequences.detach().cpu().numpy().tolist()[0], skip_special_tokens=True)\n",
    "text"
   ]
  },
  {
   "cell_type": "code",
   "execution_count": 5,
   "metadata": {},
   "outputs": [
    {
     "data": {
      "text/plain": [
       "37"
      ]
     },
     "execution_count": 5,
     "metadata": {},
     "output_type": "execute_result"
    }
   ],
   "source": [
    "# len(outputs.scores)\n",
    "# outputs.scores[0].size()\n",
    "len(outputs.sequences[0])\n",
    "outputs.sequences.size(1)\n",
    "# batch['input_ids']\n",
    "# input_token_len = batch['input_ids'].size(1)\n",
    "# input_token_len"
   ]
  },
  {
   "cell_type": "code",
   "execution_count": 35,
   "metadata": {},
   "outputs": [
    {
     "name": "stdout",
     "output_type": "stream",
     "text": [
      "torch.Size([1, 32000])\n",
      "tensor([28982], device='cuda:7') MTV 0.439788\n"
     ]
    }
   ],
   "source": [
    "import torch\n",
    "import torch.nn.functional as F\n",
    "input_token_len = batch['input_ids'].size(1)\n",
    "output_token_len = outputs.sequences.size(1)\n",
    "new_token_len = output_token_len - input_token_len\n",
    "\n",
    "next_token_score = pred1 = F.softmax(outputs.scores[0], dim=1)\n",
    "print(next_token_score.shape)\n",
    "top1_token = torch.argmax(next_token_score, dim=-1)\n",
    "top1_text = tokenizer.decode(top1_token.detach().cpu().numpy().tolist()[0], skip_special_tokens=True)\n",
    "top1_ppl = next_token_score[0,top1_token.detach().cpu().numpy().tolist()[0]].detach().cpu().numpy()\n",
    "print(top1_token, top1_text, top1_ppl)\n",
    "\n",
    "# top1_token\n",
    "# top1_ppl\n",
    "\n",
    "# target_new_ppl\n",
    "# target_new_token1_rank\n",
    "# target_new_ppl\n",
    "# target_true_pl\n",
    "# target_true_token1_rank\n",
    "# target_true_ppl"
   ]
  },
  {
   "cell_type": "code",
   "execution_count": 52,
   "metadata": {},
   "outputs": [
    {
     "name": "stdout",
     "output_type": "stream",
     "text": [
      "torch.Size([1, 8, 32000])\n",
      "tensor([0.4398], device='cuda:7', grad_fn=<ExpBackward0>)\n",
      "0\n"
     ]
    },
    {
     "data": {
      "text/plain": [
       "tensor([0.4398], device='cuda:7', grad_fn=<ExpBackward0>)"
      ]
     },
     "execution_count": 52,
     "metadata": {},
     "output_type": "execute_result"
    }
   ],
   "source": [
    "def perplexity(\n",
    "    model ,\n",
    "    tok,\n",
    "    text: str,\n",
    "    max_input_length: int = None,\n",
    "):\n",
    "    inputs = tok(\n",
    "        [text], return_tensors=\"pt\", max_length=max_input_length, truncation=True\n",
    "    ).to(\"cuda\")\n",
    "\n",
    "    logits = torch.nn.functional.log_softmax(model(**inputs.to(device)).logits, dim=2)\n",
    "    print(logits.shape)\n",
    "    log_probs = torch.gather(logits[:, :-1, :], 2, inputs[\"input_ids\"][:, 1:, None])[0]\n",
    "    target_p = torch.exp(log_probs[-1])\n",
    "    print(target_p)\n",
    "    \n",
    "    a = logits[0, -2, :].detach().cpu().numpy().tolist()\n",
    "    sorted_id = sorted(range(len(a)), key=lambda k: a[k], reverse=True)\n",
    "    a_order = sorted_id.index(28982)\n",
    "    print(a_order)\n",
    "    # first_token = tok.encode(\"MTV\")[1]\n",
    "    # target_p_ = torch.exp(logits[:, -2, first_token])\n",
    "    # print(target_p_)\n",
    "    # Perplexity = exp(-1/N * log P(x_1, ..., x_n))\n",
    "    return target_p\n",
    "\n",
    "perplexity(model, tokenizer, 'Singled Out debuted on MTV')"
   ]
  },
  {
   "cell_type": "code",
   "execution_count": 67,
   "metadata": {},
   "outputs": [
    {
     "name": "stdout",
     "output_type": "stream",
     "text": [
      "torch.Size([7, 1])\n",
      "tensor([0.1679], device='cuda:7', grad_fn=<MulBackward0>)\n"
     ]
    }
   ],
   "source": [
    "def perplexity(\n",
    "    model,\n",
    "    tok,\n",
    "    text: str,\n",
    "    max_input_length: int = None,\n",
    "):\n",
    "    \"\"\"\n",
    "    Computes perplexity of a piece of text, measured on a reference model.\n",
    "    Text is truncated to max_input_length tokens.\n",
    "    \"\"\"\n",
    "\n",
    "    inputs = tok(\n",
    "        [text], return_tensors=\"pt\", max_length=max_input_length, truncation=True\n",
    "    ).to(\"cuda\")\n",
    "\n",
    "    logits = torch.nn.functional.log_softmax(model(**inputs.to(device)).logits, dim=2)\n",
    "    log_probs = torch.gather(logits[:, :-1, :], 2, inputs[\"input_ids\"][:, 1:, None])[0]\n",
    "    print(log_probs.shape)\n",
    "    target_p = torch.exp(log_probs[-1]) * torch.exp(log_probs[-2])\n",
    "    print(target_p)\n",
    "    # Perplexity = exp(-1/N * log P(x_1, ..., x_n))\n",
    "    # return torch.exp(1 / 2 * (log_probs[-1]+log_probs[-2])).item()\n",
    "perplexity(model, tokenizer, 'Singled Out debuted on MTV')"
   ]
  },
  {
   "cell_type": "code",
   "execution_count": 75,
   "metadata": {},
   "outputs": [
    {
     "data": {
      "text/plain": [
       "{'input_ids': [1, 15347, 1705, 12637, 338, 5982, 297, 4092], 'attention_mask': [1, 1, 1, 1, 1, 1, 1, 1]}"
      ]
     },
     "execution_count": 75,
     "metadata": {},
     "output_type": "execute_result"
    }
   ],
   "source": [
    "tokenizer('Gibraltar is located in Europe')"
   ]
  },
  {
   "cell_type": "code",
   "execution_count": 89,
   "metadata": {},
   "outputs": [],
   "source": [
    "import json\n",
    "import re, string\n",
    "def normalize(s):\n",
    "    \"\"\"Lower text and remove punctuation, articles and extra whitespace.\"\"\"\n",
    "\n",
    "    def remove_articles(text):\n",
    "        regex = re.compile(r'\\b(a|an|the)\\b', re.UNICODE)\n",
    "        return re.sub(regex, ' ', text)\n",
    "\n",
    "    def white_space_fix(text):\n",
    "        return ' '.join(text.split())\n",
    "\n",
    "    def remove_punc(text):\n",
    "        exclude = set(string.punctuation)\n",
    "        return ''.join(ch for ch in text if ch not in exclude)\n",
    "\n",
    "    def lower(text):\n",
    "        return text.lower()\n",
    "\n",
    "    return white_space_fix(remove_articles(remove_punc(lower(s))))\n",
    "\n",
    "# with open('/data/maxb/mememe/EasyEdit/see_logits.json', 'r') as f:\n",
    "#     genertation = json.load(f)\n",
    "# with open('/data/maxb/mememe/EasyEdit/cf/counterfact.json', 'r') as f:\n",
    "#     data = json.load(f)\n",
    "# cnt = 0\n",
    "# for i, (g, d) in enumerate(zip(genertation, data)):\n",
    "#     assert g['case_id'] == d['case_id']\n",
    "#     flag = 0\n",
    "#     # print(g)\n",
    "#     # print(d)\n",
    "#     if normalize(d['requested_rewrite']['target_true']['str']) in normalize(g['generation']):\n",
    "#         cnt += 1\n",
    "#         flag = 1\n",
    "#     if i%1000 == 0:\n",
    "#         print(d['requested_rewrite']['target_true']['str'], g['generation'], flag)\n"
   ]
  },
  {
   "cell_type": "code",
   "execution_count": 5,
   "metadata": {},
   "outputs": [
    {
     "data": {
      "text/plain": [
       "0.3428988548747662"
      ]
     },
     "execution_count": 5,
     "metadata": {},
     "output_type": "execute_result"
    }
   ],
   "source": [
    "cnt/len(genertation)"
   ]
  },
  {
   "cell_type": "code",
   "execution_count": 63,
   "metadata": {},
   "outputs": [],
   "source": []
  },
  {
   "cell_type": "code",
   "execution_count": 99,
   "metadata": {},
   "outputs": [
    {
     "name": "stderr",
     "output_type": "stream",
     "text": [
      "  0%|          | 1/21419 [00:00<3:26:46,  1.73it/s]"
     ]
    },
    {
     "name": "stdout",
     "output_type": "stream",
     "text": [
      "Nick Raphael originates from  New York\n"
     ]
    },
    {
     "name": "stderr",
     "output_type": "stream",
     "text": [
      "  0%|          | 101/21419 [00:59<3:32:26,  1.67it/s]"
     ]
    },
    {
     "name": "stdout",
     "output_type": "stream",
     "text": [
      "Yazid I follows the religion of  Islam\n"
     ]
    },
    {
     "name": "stderr",
     "output_type": "stream",
     "text": [
      "  1%|          | 201/21419 [01:58<3:23:59,  1.73it/s]"
     ]
    },
    {
     "name": "stdout",
     "output_type": "stream",
     "text": [
      "How I Met Your Mother premieres on  CBS\n"
     ]
    },
    {
     "name": "stderr",
     "output_type": "stream",
     "text": [
      "  1%|▏         | 301/21419 [02:58<3:14:51,  1.81it/s]"
     ]
    },
    {
     "name": "stdout",
     "output_type": "stream",
     "text": [
      "Boeing Helicopters is owned by  Boeing\n"
     ]
    },
    {
     "name": "stderr",
     "output_type": "stream",
     "text": [
      "  2%|▏         | 401/21419 [03:57<3:17:23,  1.77it/s]"
     ]
    },
    {
     "name": "stdout",
     "output_type": "stream",
     "text": [
      "Michael Umaña professionally plays the sport  baseball\n"
     ]
    },
    {
     "name": "stderr",
     "output_type": "stream",
     "text": [
      "  2%|▏         | 501/21419 [04:55<3:03:51,  1.90it/s]"
     ]
    },
    {
     "name": "stdout",
     "output_type": "stream",
     "text": [
      "Purple Hearts's music label is  _____________.\n"
     ]
    },
    {
     "name": "stderr",
     "output_type": "stream",
     "text": [
      "  3%|▎         | 601/21419 [05:55<3:25:18,  1.69it/s]"
     ]
    },
    {
     "name": "stdout",
     "output_type": "stream",
     "text": [
      "Calder Freeway, in  California\n"
     ]
    },
    {
     "name": "stderr",
     "output_type": "stream",
     "text": [
      "  3%|▎         | 701/21419 [06:53<3:18:35,  1.74it/s]"
     ]
    },
    {
     "name": "stdout",
     "output_type": "stream",
     "text": [
      "Mainichi Shinbun, that was created in  Japan\n"
     ]
    },
    {
     "name": "stderr",
     "output_type": "stream",
     "text": [
      "  4%|▎         | 801/21419 [07:51<3:16:49,  1.75it/s]"
     ]
    },
    {
     "name": "stdout",
     "output_type": "stream",
     "text": [
      "1985 Southeast Asian Games is located in  Singapore\n"
     ]
    },
    {
     "name": "stderr",
     "output_type": "stream",
     "text": [
      "  4%|▍         | 901/21419 [08:49<3:21:25,  1.70it/s]"
     ]
    },
    {
     "name": "stdout",
     "output_type": "stream",
     "text": [
      "Max Wilson was native to  New York\n"
     ]
    },
    {
     "name": "stderr",
     "output_type": "stream",
     "text": [
      "  5%|▍         | 1001/21419 [09:47<3:18:28,  1.71it/s]"
     ]
    },
    {
     "name": "stdout",
     "output_type": "stream",
     "text": [
      "Chris Daughtry plays the instrument  guitar\n"
     ]
    },
    {
     "name": "stderr",
     "output_type": "stream",
     "text": [
      "  5%|▌         | 1101/21419 [10:46<3:15:29,  1.73it/s]"
     ]
    },
    {
     "name": "stdout",
     "output_type": "stream",
     "text": [
      "home counties is within  England\n"
     ]
    },
    {
     "name": "stderr",
     "output_type": "stream",
     "text": [
      "  6%|▌         | 1201/21419 [11:45<3:18:13,  1.70it/s]"
     ]
    },
    {
     "name": "stdout",
     "output_type": "stream",
     "text": [
      "Mac OS X Panther was created by  Apple\n"
     ]
    },
    {
     "name": "stderr",
     "output_type": "stream",
     "text": [
      "  6%|▌         | 1301/21419 [12:44<3:18:10,  1.69it/s]"
     ]
    },
    {
     "name": "stdout",
     "output_type": "stream",
     "text": [
      "Wesley Lopes Beltrame, who plays the position  of forward\n"
     ]
    },
    {
     "name": "stderr",
     "output_type": "stream",
     "text": [
      "  7%|▋         | 1401/21419 [13:43<3:14:26,  1.72it/s]"
     ]
    },
    {
     "name": "stdout",
     "output_type": "stream",
     "text": [
      "Franz Reuleaux's expertise is  engineering\n"
     ]
    },
    {
     "name": "stderr",
     "output_type": "stream",
     "text": [
      "  7%|▋         | 1501/21419 [14:41<3:17:43,  1.68it/s]"
     ]
    },
    {
     "name": "stdout",
     "output_type": "stream",
     "text": [
      "Jithan Ramesh, who has a citizenship from  India\n"
     ]
    },
    {
     "name": "stderr",
     "output_type": "stream",
     "text": [
      "  7%|▋         | 1601/21419 [15:40<3:17:46,  1.67it/s]"
     ]
    },
    {
     "name": "stdout",
     "output_type": "stream",
     "text": [
      "Marcos Moshinsky's area of work is  economics\n"
     ]
    },
    {
     "name": "stderr",
     "output_type": "stream",
     "text": [
      "  8%|▊         | 1701/21419 [16:38<3:16:00,  1.68it/s]"
     ]
    },
    {
     "name": "stdout",
     "output_type": "stream",
     "text": [
      "Ellar Coltrane works as  actor\n"
     ]
    },
    {
     "name": "stderr",
     "output_type": "stream",
     "text": [
      "  8%|▊         | 1801/21419 [17:36<2:58:26,  1.83it/s]"
     ]
    },
    {
     "name": "stdout",
     "output_type": "stream",
     "text": [
      "Gayngs was created in  Minneapolis\n"
     ]
    },
    {
     "name": "stderr",
     "output_type": "stream",
     "text": [
      "  9%|▉         | 1901/21419 [18:34<3:11:58,  1.69it/s]"
     ]
    },
    {
     "name": "stdout",
     "output_type": "stream",
     "text": [
      "Opeth, from  Sweden\n"
     ]
    },
    {
     "name": "stderr",
     "output_type": "stream",
     "text": [
      "  9%|▉         | 2001/21419 [19:33<3:07:51,  1.72it/s]"
     ]
    },
    {
     "name": "stdout",
     "output_type": "stream",
     "text": [
      "Ty Detmer plays as  quarterback\n"
     ]
    },
    {
     "name": "stderr",
     "output_type": "stream",
     "text": [
      " 10%|▉         | 2101/21419 [20:30<3:11:03,  1.69it/s]"
     ]
    },
    {
     "name": "stdout",
     "output_type": "stream",
     "text": [
      "The profession of Milt Kogan is  a lawyer\n"
     ]
    },
    {
     "name": "stderr",
     "output_type": "stream",
     "text": [
      " 10%|█         | 2201/21419 [21:28<2:53:51,  1.84it/s]"
     ]
    },
    {
     "name": "stdout",
     "output_type": "stream",
     "text": [
      "Andorran Football Federation belongs to the organization of  UEFA\n"
     ]
    },
    {
     "name": "stderr",
     "output_type": "stream",
     "text": [
      " 11%|█         | 2301/21419 [22:26<3:11:08,  1.67it/s]"
     ]
    },
    {
     "name": "stdout",
     "output_type": "stream",
     "text": [
      "United Grain Growers is headquartered in  Winnipeg\n"
     ]
    },
    {
     "name": "stderr",
     "output_type": "stream",
     "text": [
      " 11%|█         | 2401/21419 [23:25<3:06:09,  1.70it/s]"
     ]
    },
    {
     "name": "stdout",
     "output_type": "stream",
     "text": [
      "Honey War is in  California\n"
     ]
    },
    {
     "name": "stderr",
     "output_type": "stream",
     "text": [
      " 12%|█▏        | 2501/21419 [24:23<3:03:35,  1.72it/s]"
     ]
    },
    {
     "name": "stdout",
     "output_type": "stream",
     "text": [
      "The headquarters of New Kabul Bank is in  Kabul\n"
     ]
    },
    {
     "name": "stderr",
     "output_type": "stream",
     "text": [
      " 12%|█▏        | 2601/21419 [25:22<3:00:50,  1.73it/s]"
     ]
    },
    {
     "name": "stdout",
     "output_type": "stream",
     "text": [
      "Biff Wellington is native to  New York\n"
     ]
    },
    {
     "name": "stderr",
     "output_type": "stream",
     "text": [
      " 13%|█▎        | 2701/21419 [26:21<3:08:06,  1.66it/s]"
     ]
    },
    {
     "name": "stdout",
     "output_type": "stream",
     "text": [
      "2011 Yemeni revolution is located in  Yemen\n"
     ]
    },
    {
     "name": "stderr",
     "output_type": "stream",
     "text": [
      " 13%|█▎        | 2801/21419 [27:20<3:03:28,  1.69it/s]"
     ]
    },
    {
     "name": "stdout",
     "output_type": "stream",
     "text": [
      "Magnus Lindgren performs  jazz\n"
     ]
    },
    {
     "name": "stderr",
     "output_type": "stream",
     "text": [
      " 14%|█▎        | 2901/21419 [28:18<3:01:56,  1.70it/s]"
     ]
    },
    {
     "name": "stdout",
     "output_type": "stream",
     "text": [
      "Roland Topor, a native  French\n"
     ]
    },
    {
     "name": "stderr",
     "output_type": "stream",
     "text": [
      " 14%|█▍        | 3001/21419 [29:17<3:00:21,  1.70it/s]"
     ]
    },
    {
     "name": "stdout",
     "output_type": "stream",
     "text": [
      "The original language of Yalkut Yosef is  Hebrew\n"
     ]
    },
    {
     "name": "stderr",
     "output_type": "stream",
     "text": [
      " 14%|█▍        | 3101/21419 [30:18<3:01:28,  1.68it/s]"
     ]
    },
    {
     "name": "stdout",
     "output_type": "stream",
     "text": [
      "The official language of Tavannes is  French\n"
     ]
    },
    {
     "name": "stderr",
     "output_type": "stream",
     "text": [
      " 15%|█▍        | 3201/21419 [31:16<3:00:36,  1.68it/s]"
     ]
    },
    {
     "name": "stdout",
     "output_type": "stream",
     "text": [
      "Gaspard Gourgaud was employed in  Turin\n"
     ]
    },
    {
     "name": "stderr",
     "output_type": "stream",
     "text": [
      " 15%|█▌        | 3301/21419 [32:15<2:59:11,  1.69it/s]"
     ]
    },
    {
     "name": "stdout",
     "output_type": "stream",
     "text": [
      "The language of Sostiene Pereira was  Portuguese\n"
     ]
    },
    {
     "name": "stderr",
     "output_type": "stream",
     "text": [
      " 16%|█▌        | 3401/21419 [33:14<3:02:55,  1.64it/s]"
     ]
    },
    {
     "name": "stdout",
     "output_type": "stream",
     "text": [
      "In Huittinen, they understand  and speak the language Swedish\n"
     ]
    },
    {
     "name": "stderr",
     "output_type": "stream",
     "text": [
      " 16%|█▋        | 3501/21419 [34:12<2:50:38,  1.75it/s]"
     ]
    },
    {
     "name": "stdout",
     "output_type": "stream",
     "text": [
      "Gordon Scott's occupation is  actor\n"
     ]
    },
    {
     "name": "stderr",
     "output_type": "stream",
     "text": [
      " 17%|█▋        | 3601/21419 [35:11<2:53:05,  1.72it/s]"
     ]
    },
    {
     "name": "stdout",
     "output_type": "stream",
     "text": [
      "Jiang Qinqin spoke the language  Chinese\n"
     ]
    },
    {
     "name": "stderr",
     "output_type": "stream",
     "text": [
      " 17%|█▋        | 3701/21419 [36:09<2:50:07,  1.74it/s]"
     ]
    },
    {
     "name": "stdout",
     "output_type": "stream",
     "text": [
      "Stonegard was started in  Copenhagen\n"
     ]
    },
    {
     "name": "stderr",
     "output_type": "stream",
     "text": [
      " 18%|█▊        | 3801/21419 [37:08<2:57:08,  1.66it/s]"
     ]
    },
    {
     "name": "stdout",
     "output_type": "stream",
     "text": [
      "The profession of Peter Abelard is  philosopher\n"
     ]
    },
    {
     "name": "stderr",
     "output_type": "stream",
     "text": [
      " 18%|█▊        | 3901/21419 [38:06<2:49:02,  1.73it/s]"
     ]
    },
    {
     "name": "stdout",
     "output_type": "stream",
     "text": [
      "Jack Cassidy died in the city of  New York\n"
     ]
    },
    {
     "name": "stderr",
     "output_type": "stream",
     "text": [
      " 19%|█▊        | 4001/21419 [39:04<2:54:30,  1.66it/s]"
     ]
    },
    {
     "name": "stdout",
     "output_type": "stream",
     "text": [
      "Gabriel Zubeir Wako, a citizen of  Kenya\n"
     ]
    },
    {
     "name": "stderr",
     "output_type": "stream",
     "text": [
      " 19%|█▉        | 4101/21419 [40:02<2:53:00,  1.67it/s]"
     ]
    },
    {
     "name": "stdout",
     "output_type": "stream",
     "text": [
      "Keystone Corridor can be found in  Pennsylvania\n"
     ]
    },
    {
     "name": "stderr",
     "output_type": "stream",
     "text": [
      " 20%|█▉        | 4201/21419 [41:01<2:47:21,  1.71it/s]"
     ]
    },
    {
     "name": "stdout",
     "output_type": "stream",
     "text": [
      "George Walden took up work in  London\n"
     ]
    },
    {
     "name": "stderr",
     "output_type": "stream",
     "text": [
      " 20%|██        | 4301/21419 [41:59<2:56:49,  1.61it/s]"
     ]
    },
    {
     "name": "stdout",
     "output_type": "stream",
     "text": [
      "Which position does Nolan Schaefer play? They play as  quarterback\n"
     ]
    },
    {
     "name": "stderr",
     "output_type": "stream",
     "text": [
      " 21%|██        | 4401/21419 [42:57<2:40:14,  1.77it/s]"
     ]
    },
    {
     "name": "stdout",
     "output_type": "stream",
     "text": [
      "Sidhi district, in  India\n"
     ]
    },
    {
     "name": "stderr",
     "output_type": "stream",
     "text": [
      " 21%|██        | 4501/21419 [43:55<2:47:56,  1.68it/s]"
     ]
    },
    {
     "name": "stdout",
     "output_type": "stream",
     "text": [
      "Joachim Barrande was employed in  Warsaw\n"
     ]
    },
    {
     "name": "stderr",
     "output_type": "stream",
     "text": [
      " 21%|██▏       | 4601/21419 [44:54<2:44:27,  1.70it/s]"
     ]
    },
    {
     "name": "stdout",
     "output_type": "stream",
     "text": [
      "We Are All Legends performs  jazz\n"
     ]
    },
    {
     "name": "stderr",
     "output_type": "stream",
     "text": [
      " 22%|██▏       | 4701/21419 [45:52<2:46:29,  1.67it/s]"
     ]
    },
    {
     "name": "stdout",
     "output_type": "stream",
     "text": [
      "Zuber Usman speaks  the language Urdu\n"
     ]
    },
    {
     "name": "stderr",
     "output_type": "stream",
     "text": [
      " 22%|██▏       | 4801/21419 [46:50<2:44:24,  1.68it/s]"
     ]
    },
    {
     "name": "stdout",
     "output_type": "stream",
     "text": [
      "Sony SLT camera is developed by  Sony\n"
     ]
    },
    {
     "name": "stderr",
     "output_type": "stream",
     "text": [
      " 23%|██▎       | 4901/21419 [47:48<2:40:34,  1.71it/s]"
     ]
    },
    {
     "name": "stdout",
     "output_type": "stream",
     "text": [
      "Henry Pickering Bowditch passed away at  Boston\n"
     ]
    },
    {
     "name": "stderr",
     "output_type": "stream",
     "text": [
      " 23%|██▎       | 5001/21419 [48:46<2:48:12,  1.63it/s]"
     ]
    },
    {
     "name": "stdout",
     "output_type": "stream",
     "text": [
      "Benin belongs to the continent of  Africa\n"
     ]
    },
    {
     "name": "stderr",
     "output_type": "stream",
     "text": [
      " 24%|██▍       | 5101/21419 [49:45<2:37:30,  1.73it/s]"
     ]
    },
    {
     "name": "stdout",
     "output_type": "stream",
     "text": [
      "Giovanni Bassano was employed in  Venice\n"
     ]
    },
    {
     "name": "stderr",
     "output_type": "stream",
     "text": [
      " 24%|██▍       | 5201/21419 [50:43<2:40:59,  1.68it/s]"
     ]
    },
    {
     "name": "stdout",
     "output_type": "stream",
     "text": [
      "The language of The Reckoning of Time is  Spanish\n"
     ]
    },
    {
     "name": "stderr",
     "output_type": "stream",
     "text": [
      " 25%|██▍       | 5301/21419 [51:41<2:31:05,  1.78it/s]"
     ]
    },
    {
     "name": "stdout",
     "output_type": "stream",
     "text": [
      "Anders Ågnes Konradsen, who plays the position  of forward\n"
     ]
    },
    {
     "name": "stderr",
     "output_type": "stream",
     "text": [
      " 25%|██▌       | 5401/21419 [52:40<2:36:48,  1.70it/s]"
     ]
    },
    {
     "name": "stdout",
     "output_type": "stream",
     "text": [
      "Tim Ingold's expertise is  anthropology\n"
     ]
    },
    {
     "name": "stderr",
     "output_type": "stream",
     "text": [
      " 26%|██▌       | 5501/21419 [53:38<2:30:32,  1.76it/s]"
     ]
    },
    {
     "name": "stdout",
     "output_type": "stream",
     "text": [
      "Suleiman I of Persia is a  sultan\n"
     ]
    },
    {
     "name": "stderr",
     "output_type": "stream",
     "text": [
      " 26%|██▌       | 5601/21419 [54:36<2:33:40,  1.72it/s]"
     ]
    },
    {
     "name": "stdout",
     "output_type": "stream",
     "text": [
      "Valmiki speaks the language  Sanskrit\n"
     ]
    },
    {
     "name": "stderr",
     "output_type": "stream",
     "text": [
      " 27%|██▋       | 5701/21419 [55:34<2:40:44,  1.63it/s]"
     ]
    },
    {
     "name": "stdout",
     "output_type": "stream",
     "text": [
      "Liv Ullmann writes in  Norwegian\n"
     ]
    },
    {
     "name": "stderr",
     "output_type": "stream",
     "text": [
      " 27%|██▋       | 5801/21419 [56:33<2:33:38,  1.69it/s]"
     ]
    },
    {
     "name": "stdout",
     "output_type": "stream",
     "text": [
      "Alston G. Dayton works as  politician\n"
     ]
    },
    {
     "name": "stderr",
     "output_type": "stream",
     "text": [
      " 28%|██▊       | 5901/21419 [57:31<2:31:23,  1.71it/s]"
     ]
    },
    {
     "name": "stdout",
     "output_type": "stream",
     "text": [
      "Ferrari 612 Scaglietti is a product of  Ferrari\n"
     ]
    },
    {
     "name": "stderr",
     "output_type": "stream",
     "text": [
      " 28%|██▊       | 6001/21419 [58:29<2:31:49,  1.69it/s]"
     ]
    },
    {
     "name": "stdout",
     "output_type": "stream",
     "text": [
      "Lyon is a twin city of  Moscow\n"
     ]
    },
    {
     "name": "stderr",
     "output_type": "stream",
     "text": [
      " 28%|██▊       | 6101/21419 [59:27<2:18:34,  1.84it/s]"
     ]
    },
    {
     "name": "stdout",
     "output_type": "stream",
     "text": [
      "Toumani Diagouraga, who plays the position  of midfielder\n"
     ]
    },
    {
     "name": "stderr",
     "output_type": "stream",
     "text": [
      " 29%|██▉       | 6201/21419 [1:00:25<2:25:55,  1.74it/s]"
     ]
    },
    {
     "name": "stdout",
     "output_type": "stream",
     "text": [
      "Jean Hyppolite speaks  French\n"
     ]
    },
    {
     "name": "stderr",
     "output_type": "stream",
     "text": [
      " 29%|██▉       | 6301/21419 [1:01:23<2:25:39,  1.73it/s]"
     ]
    },
    {
     "name": "stdout",
     "output_type": "stream",
     "text": [
      "What does Bobby Watson play? They play  jazz\n"
     ]
    },
    {
     "name": "stderr",
     "output_type": "stream",
     "text": [
      " 30%|██▉       | 6401/21419 [1:02:21<2:14:22,  1.86it/s]"
     ]
    },
    {
     "name": "stdout",
     "output_type": "stream",
     "text": [
      "Hungary is a part of the  UEFA\n"
     ]
    },
    {
     "name": "stderr",
     "output_type": "stream",
     "text": [
      " 30%|███       | 6501/21419 [1:03:19<2:23:24,  1.73it/s]"
     ]
    },
    {
     "name": "stdout",
     "output_type": "stream",
     "text": [
      "Gmina Stara Kornica, in  Poland\n"
     ]
    },
    {
     "name": "stderr",
     "output_type": "stream",
     "text": [
      " 31%|███       | 6601/21419 [1:04:17<2:24:10,  1.71it/s]"
     ]
    },
    {
     "name": "stdout",
     "output_type": "stream",
     "text": [
      "The native language of Aletta Jacobs is  Dutch\n"
     ]
    },
    {
     "name": "stderr",
     "output_type": "stream",
     "text": [
      " 31%|███▏      | 6701/21419 [1:05:16<2:30:04,  1.63it/s]"
     ]
    },
    {
     "name": "stdout",
     "output_type": "stream",
     "text": [
      "Johnny Baldwin, who plays the position  of cornerback\n"
     ]
    },
    {
     "name": "stderr",
     "output_type": "stream",
     "text": [
      " 32%|███▏      | 6801/21419 [1:06:14<2:24:46,  1.68it/s]"
     ]
    },
    {
     "name": "stdout",
     "output_type": "stream",
     "text": [
      "Ernie Davis is a professional  football player\n"
     ]
    },
    {
     "name": "stderr",
     "output_type": "stream",
     "text": [
      " 32%|███▏      | 6901/21419 [1:07:13<2:17:58,  1.75it/s]"
     ]
    },
    {
     "name": "stdout",
     "output_type": "stream",
     "text": [
      "Bare Essence debuted on  Showtime\n"
     ]
    },
    {
     "name": "stderr",
     "output_type": "stream",
     "text": [
      " 33%|███▎      | 7001/21419 [1:08:11<2:17:49,  1.74it/s]"
     ]
    },
    {
     "name": "stdout",
     "output_type": "stream",
     "text": [
      "Alexey Miller, a native  speaker of Russian\n"
     ]
    },
    {
     "name": "stderr",
     "output_type": "stream",
     "text": [
      " 33%|███▎      | 7101/21419 [1:09:10<2:17:25,  1.74it/s]"
     ]
    },
    {
     "name": "stdout",
     "output_type": "stream",
     "text": [
      "Nokia X is created by  Nokia\n"
     ]
    },
    {
     "name": "stderr",
     "output_type": "stream",
     "text": [
      " 34%|███▎      | 7201/21419 [1:10:08<2:14:50,  1.76it/s]"
     ]
    },
    {
     "name": "stdout",
     "output_type": "stream",
     "text": [
      "Eva Cantarella speaks  Italian\n"
     ]
    },
    {
     "name": "stderr",
     "output_type": "stream",
     "text": [
      " 34%|███▍      | 7301/21419 [1:11:06<2:15:37,  1.73it/s]"
     ]
    },
    {
     "name": "stdout",
     "output_type": "stream",
     "text": [
      "Fergus McMaster was born in  Toronto\n"
     ]
    },
    {
     "name": "stderr",
     "output_type": "stream",
     "text": [
      " 35%|███▍      | 7401/21419 [1:12:04<2:12:06,  1.77it/s]"
     ]
    },
    {
     "name": "stdout",
     "output_type": "stream",
     "text": [
      "CNN Presents was released on  CNN\n"
     ]
    },
    {
     "name": "stderr",
     "output_type": "stream",
     "text": [
      " 35%|███▌      | 7501/21419 [1:13:02<2:16:31,  1.70it/s]"
     ]
    },
    {
     "name": "stdout",
     "output_type": "stream",
     "text": [
      "Noon Meem Danish works as  artist\n"
     ]
    },
    {
     "name": "stderr",
     "output_type": "stream",
     "text": [
      " 35%|███▌      | 7601/21419 [1:14:00<2:13:32,  1.72it/s]"
     ]
    },
    {
     "name": "stdout",
     "output_type": "stream",
     "text": [
      "Tagus river is located in  the continent of Europe\n"
     ]
    },
    {
     "name": "stderr",
     "output_type": "stream",
     "text": [
      " 36%|███▌      | 7701/21419 [1:14:59<2:19:31,  1.64it/s]"
     ]
    },
    {
     "name": "stdout",
     "output_type": "stream",
     "text": [
      "The original language of I Love Another was  Spanish\n"
     ]
    },
    {
     "name": "stderr",
     "output_type": "stream",
     "text": [
      " 36%|███▋      | 7801/21419 [1:15:57<2:18:04,  1.64it/s]"
     ]
    },
    {
     "name": "stdout",
     "output_type": "stream",
     "text": [
      "Rhine is located in  the continent of Europe\n"
     ]
    },
    {
     "name": "stderr",
     "output_type": "stream",
     "text": [
      " 37%|███▋      | 7901/21419 [1:16:56<2:08:13,  1.76it/s]"
     ]
    },
    {
     "name": "stdout",
     "output_type": "stream",
     "text": [
      "Henri Estienne originated from  Paris\n"
     ]
    },
    {
     "name": "stderr",
     "output_type": "stream",
     "text": [
      " 37%|███▋      | 8001/21419 [1:17:53<2:05:02,  1.79it/s]"
     ]
    },
    {
     "name": "stdout",
     "output_type": "stream",
     "text": [
      "The Steepwater Band, created in  Chicago\n"
     ]
    },
    {
     "name": "stderr",
     "output_type": "stream",
     "text": [
      " 38%|███▊      | 8101/21419 [1:18:52<2:15:14,  1.64it/s]"
     ]
    },
    {
     "name": "stdout",
     "output_type": "stream",
     "text": [
      "Sean Burke plays as  goaltender\n"
     ]
    },
    {
     "name": "stderr",
     "output_type": "stream",
     "text": [
      " 38%|███▊      | 8201/21419 [1:19:50<2:09:01,  1.71it/s]"
     ]
    },
    {
     "name": "stdout",
     "output_type": "stream",
     "text": [
      "Matt Riddle, playing the  instrument guitar\n"
     ]
    },
    {
     "name": "stderr",
     "output_type": "stream",
     "text": [
      " 39%|███▉      | 8301/21419 [1:20:49<2:03:29,  1.77it/s]"
     ]
    },
    {
     "name": "stdout",
     "output_type": "stream",
     "text": [
      "Fredrik Stang worked in  Oslo\n"
     ]
    },
    {
     "name": "stderr",
     "output_type": "stream",
     "text": [
      " 39%|███▉      | 8401/21419 [1:21:47<2:04:48,  1.74it/s]"
     ]
    },
    {
     "name": "stdout",
     "output_type": "stream",
     "text": [
      "Shoranur, in  the state of Tamil Nadu, India\n"
     ]
    },
    {
     "name": "stderr",
     "output_type": "stream",
     "text": [
      " 40%|███▉      | 8501/21419 [1:22:45<2:10:19,  1.65it/s]"
     ]
    },
    {
     "name": "stdout",
     "output_type": "stream",
     "text": [
      "Kiko Alonso plays as  linebacker\n"
     ]
    },
    {
     "name": "stderr",
     "output_type": "stream",
     "text": [
      " 40%|████      | 8601/21419 [1:23:43<2:04:46,  1.71it/s]"
     ]
    },
    {
     "name": "stdout",
     "output_type": "stream",
     "text": [
      "Suzuki APV is developed by  Suzuki\n"
     ]
    },
    {
     "name": "stderr",
     "output_type": "stream",
     "text": [
      " 41%|████      | 8701/21419 [1:24:41<2:04:42,  1.70it/s]"
     ]
    },
    {
     "name": "stdout",
     "output_type": "stream",
     "text": [
      "Leroy Jones, playing the  instrument guitar\n"
     ]
    },
    {
     "name": "stderr",
     "output_type": "stream",
     "text": [
      " 41%|████      | 8801/21419 [1:25:40<2:00:25,  1.75it/s]"
     ]
    },
    {
     "name": "stdout",
     "output_type": "stream",
     "text": [
      "The twin city of Tirana is  Pristina\n"
     ]
    },
    {
     "name": "stderr",
     "output_type": "stream",
     "text": [
      " 42%|████▏     | 8901/21419 [1:26:37<1:58:59,  1.75it/s]"
     ]
    },
    {
     "name": "stdout",
     "output_type": "stream",
     "text": [
      "Montour County can be found in  Pennsylvania\n"
     ]
    },
    {
     "name": "stderr",
     "output_type": "stream",
     "text": [
      " 42%|████▏     | 9001/21419 [1:27:36<1:57:26,  1.76it/s]"
     ]
    },
    {
     "name": "stdout",
     "output_type": "stream",
     "text": [
      "Trailer Park Boys was from  Canada\n"
     ]
    },
    {
     "name": "stderr",
     "output_type": "stream",
     "text": [
      " 42%|████▏     | 9101/21419 [1:28:34<1:55:04,  1.78it/s]"
     ]
    },
    {
     "name": "stdout",
     "output_type": "stream",
     "text": [
      "Agatha Christie's Marple debuted on  PBS\n"
     ]
    },
    {
     "name": "stderr",
     "output_type": "stream",
     "text": [
      " 43%|████▎     | 9201/21419 [1:29:33<1:57:11,  1.74it/s]"
     ]
    },
    {
     "name": "stdout",
     "output_type": "stream",
     "text": [
      "The language of LiveJournal is  English\n"
     ]
    },
    {
     "name": "stderr",
     "output_type": "stream",
     "text": [
      " 43%|████▎     | 9301/21419 [1:30:31<1:57:31,  1.72it/s]"
     ]
    },
    {
     "name": "stdout",
     "output_type": "stream",
     "text": [
      "Nick Cave writes in  English\n"
     ]
    },
    {
     "name": "stderr",
     "output_type": "stream",
     "text": [
      " 44%|████▍     | 9401/21419 [1:31:30<2:00:36,  1.66it/s]"
     ]
    },
    {
     "name": "stdout",
     "output_type": "stream",
     "text": [
      "Where is Barn Elms? It is located in  London\n"
     ]
    },
    {
     "name": "stderr",
     "output_type": "stream",
     "text": [
      " 44%|████▍     | 9501/21419 [1:32:29<1:53:54,  1.74it/s]"
     ]
    },
    {
     "name": "stdout",
     "output_type": "stream",
     "text": [
      "The twin city of Cincinnati is  Moscow\n"
     ]
    },
    {
     "name": "stderr",
     "output_type": "stream",
     "text": [
      " 45%|████▍     | 9601/21419 [1:33:27<1:55:31,  1.70it/s]"
     ]
    },
    {
     "name": "stdout",
     "output_type": "stream",
     "text": [
      "Jane Tranter, who works for  BBC\n"
     ]
    },
    {
     "name": "stderr",
     "output_type": "stream",
     "text": [
      " 45%|████▌     | 9701/21419 [1:34:25<1:53:12,  1.73it/s]"
     ]
    },
    {
     "name": "stdout",
     "output_type": "stream",
     "text": [
      "The language of Enthiran is  Tamil\n"
     ]
    },
    {
     "name": "stderr",
     "output_type": "stream",
     "text": [
      " 46%|████▌     | 9801/21419 [1:35:23<1:53:01,  1.71it/s]"
     ]
    },
    {
     "name": "stdout",
     "output_type": "stream",
     "text": [
      "Pedro Calungsod expired at  Manila\n"
     ]
    },
    {
     "name": "stderr",
     "output_type": "stream",
     "text": [
      " 46%|████▌     | 9901/21419 [1:36:21<1:49:24,  1.75it/s]"
     ]
    },
    {
     "name": "stdout",
     "output_type": "stream",
     "text": [
      "The genre played by Peak Records is  jazz\n"
     ]
    },
    {
     "name": "stderr",
     "output_type": "stream",
     "text": [
      " 47%|████▋     | 10001/21419 [1:37:19<1:52:06,  1.70it/s]"
     ]
    },
    {
     "name": "stdout",
     "output_type": "stream",
     "text": [
      "The language of NOW Lebanon is  Arabic\n"
     ]
    },
    {
     "name": "stderr",
     "output_type": "stream",
     "text": [
      " 47%|████▋     | 10101/21419 [1:38:17<1:47:47,  1.75it/s]"
     ]
    },
    {
     "name": "stdout",
     "output_type": "stream",
     "text": [
      "Michel Portal speaks  French\n"
     ]
    },
    {
     "name": "stderr",
     "output_type": "stream",
     "text": [
      " 48%|████▊     | 10201/21419 [1:39:15<1:50:35,  1.69it/s]"
     ]
    },
    {
     "name": "stdout",
     "output_type": "stream",
     "text": [
      "Cartographers Range is located in  the continent of Antarctica\n"
     ]
    },
    {
     "name": "stderr",
     "output_type": "stream",
     "text": [
      " 48%|████▊     | 10301/21419 [1:40:13<1:48:53,  1.70it/s]"
     ]
    },
    {
     "name": "stdout",
     "output_type": "stream",
     "text": [
      "Cape Selborne is a part of the continent of  Antarctica\n"
     ]
    },
    {
     "name": "stderr",
     "output_type": "stream",
     "text": [
      " 49%|████▊     | 10401/21419 [1:41:12<1:46:40,  1.72it/s]"
     ]
    },
    {
     "name": "stdout",
     "output_type": "stream",
     "text": [
      "What does Paul Gonsalves play? They play  jazz\n"
     ]
    },
    {
     "name": "stderr",
     "output_type": "stream",
     "text": [
      " 49%|████▉     | 10501/21419 [1:42:11<1:46:03,  1.72it/s]"
     ]
    },
    {
     "name": "stdout",
     "output_type": "stream",
     "text": [
      "The occupation of Gargi Roychowdhury is  a scientist\n"
     ]
    },
    {
     "name": "stderr",
     "output_type": "stream",
     "text": [
      " 49%|████▉     | 10601/21419 [1:43:10<1:46:16,  1.70it/s]"
     ]
    },
    {
     "name": "stdout",
     "output_type": "stream",
     "text": [
      "Case Western Reserve University is based in  Cleveland\n"
     ]
    },
    {
     "name": "stderr",
     "output_type": "stream",
     "text": [
      " 50%|████▉     | 10701/21419 [1:44:08<1:46:34,  1.68it/s]"
     ]
    },
    {
     "name": "stdout",
     "output_type": "stream",
     "text": [
      "Tariq Saleh works as  writer\n"
     ]
    },
    {
     "name": "stderr",
     "output_type": "stream",
     "text": [
      " 50%|█████     | 10801/21419 [1:45:07<1:45:53,  1.67it/s]"
     ]
    },
    {
     "name": "stdout",
     "output_type": "stream",
     "text": [
      "Teatro Comunale Florence, located in  Italy\n"
     ]
    },
    {
     "name": "stderr",
     "output_type": "stream",
     "text": [
      " 51%|█████     | 10901/21419 [1:46:05<1:43:01,  1.70it/s]"
     ]
    },
    {
     "name": "stdout",
     "output_type": "stream",
     "text": [
      "Norman Rockwell, a native  English speaker\n"
     ]
    },
    {
     "name": "stderr",
     "output_type": "stream",
     "text": [
      " 51%|█████▏    | 11001/21419 [1:47:03<1:39:28,  1.75it/s]"
     ]
    },
    {
     "name": "stdout",
     "output_type": "stream",
     "text": [
      "Ikegami Tsushinki was formed in  Tokyo\n"
     ]
    },
    {
     "name": "stderr",
     "output_type": "stream",
     "text": [
      " 52%|█████▏    | 11101/21419 [1:48:02<1:43:24,  1.66it/s]"
     ]
    },
    {
     "name": "stdout",
     "output_type": "stream",
     "text": [
      "Andreas Peter Bernstorff used to work in  Copenhagen\n"
     ]
    },
    {
     "name": "stderr",
     "output_type": "stream",
     "text": [
      " 52%|█████▏    | 11201/21419 [1:49:01<1:38:27,  1.73it/s]"
     ]
    },
    {
     "name": "stdout",
     "output_type": "stream",
     "text": [
      "Bentley Continental Flying Spur is a product of  Bentley\n"
     ]
    },
    {
     "name": "stderr",
     "output_type": "stream",
     "text": [
      " 53%|█████▎    | 11301/21419 [1:49:58<1:35:55,  1.76it/s]"
     ]
    },
    {
     "name": "stdout",
     "output_type": "stream",
     "text": [
      "Tashkent is in  Asia\n"
     ]
    },
    {
     "name": "stderr",
     "output_type": "stream",
     "text": [
      " 53%|█████▎    | 11401/21419 [1:50:57<1:37:53,  1.71it/s]"
     ]
    },
    {
     "name": "stdout",
     "output_type": "stream",
     "text": [
      "Bundesautobahn 40 is owned by  Germany\n"
     ]
    },
    {
     "name": "stderr",
     "output_type": "stream",
     "text": [
      " 54%|█████▎    | 11501/21419 [1:51:55<1:37:59,  1.69it/s]"
     ]
    },
    {
     "name": "stdout",
     "output_type": "stream",
     "text": [
      "The mother tongue of Henri Diamant-Berger is  French\n"
     ]
    },
    {
     "name": "stderr",
     "output_type": "stream",
     "text": [
      " 54%|█████▍    | 11601/21419 [1:52:53<1:35:46,  1.71it/s]"
     ]
    },
    {
     "name": "stdout",
     "output_type": "stream",
     "text": [
      "Hobart Zoo is located in the country of  Australia\n"
     ]
    },
    {
     "name": "stderr",
     "output_type": "stream",
     "text": [
      " 55%|█████▍    | 11701/21419 [1:53:52<1:30:14,  1.79it/s]"
     ]
    },
    {
     "name": "stdout",
     "output_type": "stream",
     "text": [
      "James Jackson Putnam originates from  New York\n"
     ]
    },
    {
     "name": "stderr",
     "output_type": "stream",
     "text": [
      " 55%|█████▌    | 11801/21419 [1:54:49<1:32:15,  1.74it/s]"
     ]
    },
    {
     "name": "stdout",
     "output_type": "stream",
     "text": [
      "Munich, which is located in  Germany\n"
     ]
    },
    {
     "name": "stderr",
     "output_type": "stream",
     "text": [
      " 56%|█████▌    | 11901/21419 [1:55:48<1:32:27,  1.72it/s]"
     ]
    },
    {
     "name": "stdout",
     "output_type": "stream",
     "text": [
      "William Herschel's expertise is  astronomy\n"
     ]
    },
    {
     "name": "stderr",
     "output_type": "stream",
     "text": [
      " 56%|█████▌    | 12001/21419 [1:56:47<1:28:54,  1.77it/s]"
     ]
    },
    {
     "name": "stdout",
     "output_type": "stream",
     "text": [
      "Ali-Akbar Shahnazi was originally from  Tehran\n"
     ]
    },
    {
     "name": "stderr",
     "output_type": "stream",
     "text": [
      " 56%|█████▋    | 12101/21419 [1:57:45<1:27:12,  1.78it/s]"
     ]
    },
    {
     "name": "stdout",
     "output_type": "stream",
     "text": [
      "The mother tongue of Jacobus Henricus van 't Hoff is  Dutch\n"
     ]
    },
    {
     "name": "stderr",
     "output_type": "stream",
     "text": [
      " 57%|█████▋    | 12201/21419 [1:58:43<1:31:10,  1.69it/s]"
     ]
    },
    {
     "name": "stdout",
     "output_type": "stream",
     "text": [
      "Eugene Wigner works in the area of  nuclear physics\n"
     ]
    },
    {
     "name": "stderr",
     "output_type": "stream",
     "text": [
      " 57%|█████▋    | 12301/21419 [1:59:41<1:30:10,  1.69it/s]"
     ]
    },
    {
     "name": "stdout",
     "output_type": "stream",
     "text": [
      "Randy Moss plays  football\n"
     ]
    },
    {
     "name": "stderr",
     "output_type": "stream",
     "text": [
      " 58%|█████▊    | 12401/21419 [2:00:39<1:25:33,  1.76it/s]"
     ]
    },
    {
     "name": "stdout",
     "output_type": "stream",
     "text": [
      "Jules de Polignac writes in  French\n"
     ]
    },
    {
     "name": "stderr",
     "output_type": "stream",
     "text": [
      " 58%|█████▊    | 12501/21419 [2:01:36<1:26:15,  1.72it/s]"
     ]
    },
    {
     "name": "stdout",
     "output_type": "stream",
     "text": [
      "Marsh Glacier belongs to the continent of  Antarctica\n"
     ]
    },
    {
     "name": "stderr",
     "output_type": "stream",
     "text": [
      " 59%|█████▉    | 12601/21419 [2:02:34<1:28:27,  1.66it/s]"
     ]
    },
    {
     "name": "stdout",
     "output_type": "stream",
     "text": [
      "Kyle Boller plays as  quarterback\n"
     ]
    },
    {
     "name": "stderr",
     "output_type": "stream",
     "text": [
      " 59%|█████▉    | 12701/21419 [2:03:33<1:24:57,  1.71it/s]"
     ]
    },
    {
     "name": "stdout",
     "output_type": "stream",
     "text": [
      "Dennis Taylor, who is employed by  IBM\n"
     ]
    },
    {
     "name": "stderr",
     "output_type": "stream",
     "text": [
      " 60%|█████▉    | 12801/21419 [2:04:32<1:25:17,  1.68it/s]"
     ]
    },
    {
     "name": "stdout",
     "output_type": "stream",
     "text": [
      "Roy Hargrove, the  trumpet\n"
     ]
    },
    {
     "name": "stderr",
     "output_type": "stream",
     "text": [
      " 60%|██████    | 12901/21419 [2:05:30<1:22:51,  1.71it/s]"
     ]
    },
    {
     "name": "stdout",
     "output_type": "stream",
     "text": [
      "The twin city of Athens is  Thessaloniki\n"
     ]
    },
    {
     "name": "stderr",
     "output_type": "stream",
     "text": [
      " 61%|██████    | 13001/21419 [2:06:28<1:20:57,  1.73it/s]"
     ]
    },
    {
     "name": "stdout",
     "output_type": "stream",
     "text": [
      "Anil Kapoor speaks the language  Hindi\n"
     ]
    },
    {
     "name": "stderr",
     "output_type": "stream",
     "text": [
      " 61%|██████    | 13101/21419 [2:07:26<1:21:38,  1.70it/s]"
     ]
    },
    {
     "name": "stdout",
     "output_type": "stream",
     "text": [
      "BBC Four is owned by  BBC\n"
     ]
    },
    {
     "name": "stderr",
     "output_type": "stream",
     "text": [
      " 62%|██████▏   | 13201/21419 [2:08:24<1:17:44,  1.76it/s]"
     ]
    },
    {
     "name": "stdout",
     "output_type": "stream",
     "text": [
      "Charlotte/Douglas International Airport is owned by  Charlotte\n"
     ]
    },
    {
     "name": "stderr",
     "output_type": "stream",
     "text": [
      " 62%|██████▏   | 13301/21419 [2:09:23<1:17:04,  1.76it/s]"
     ]
    },
    {
     "name": "stdout",
     "output_type": "stream",
     "text": [
      "Joachim Meisner has the position of  archbishop\n"
     ]
    },
    {
     "name": "stderr",
     "output_type": "stream",
     "text": [
      " 63%|██████▎   | 13401/21419 [2:10:21<1:23:06,  1.61it/s]"
     ]
    },
    {
     "name": "stdout",
     "output_type": "stream",
     "text": [
      "Emmanuelle Seigner holds a citizenship from  France\n"
     ]
    },
    {
     "name": "stderr",
     "output_type": "stream",
     "text": [
      " 63%|██████▎   | 13501/21419 [2:11:20<1:16:12,  1.73it/s]"
     ]
    },
    {
     "name": "stdout",
     "output_type": "stream",
     "text": [
      "Heinrich Heine took up work in  Berlin\n"
     ]
    },
    {
     "name": "stderr",
     "output_type": "stream",
     "text": [
      " 63%|██████▎   | 13601/21419 [2:12:18<1:16:59,  1.69it/s]"
     ]
    },
    {
     "name": "stdout",
     "output_type": "stream",
     "text": [
      "Jacques Dupin, speaker of  French\n"
     ]
    },
    {
     "name": "stderr",
     "output_type": "stream",
     "text": [
      " 64%|██████▍   | 13701/21419 [2:13:16<1:14:46,  1.72it/s]"
     ]
    },
    {
     "name": "stdout",
     "output_type": "stream",
     "text": [
      "Mehmed VI was born in  Istanbul\n"
     ]
    },
    {
     "name": "stderr",
     "output_type": "stream",
     "text": [
      " 64%|██████▍   | 13801/21419 [2:14:14<1:15:48,  1.67it/s]"
     ]
    },
    {
     "name": "stdout",
     "output_type": "stream",
     "text": [
      "In Jokkmokk Municipality, they understand  the language Sami\n"
     ]
    },
    {
     "name": "stderr",
     "output_type": "stream",
     "text": [
      " 65%|██████▍   | 13901/21419 [2:15:13<1:11:18,  1.76it/s]"
     ]
    },
    {
     "name": "stdout",
     "output_type": "stream",
     "text": [
      "What does Norris Turney play? They play  jazz\n"
     ]
    },
    {
     "name": "stderr",
     "output_type": "stream",
     "text": [
      " 65%|██████▌   | 14001/21419 [2:16:11<1:13:17,  1.69it/s]"
     ]
    },
    {
     "name": "stdout",
     "output_type": "stream",
     "text": [
      "The original language of The Voice Israel was  Hebrew\n"
     ]
    },
    {
     "name": "stderr",
     "output_type": "stream",
     "text": [
      " 66%|██████▌   | 14101/21419 [2:17:09<1:12:37,  1.68it/s]"
     ]
    },
    {
     "name": "stdout",
     "output_type": "stream",
     "text": [
      "Alice Isaaz is a native speaker of  French\n"
     ]
    },
    {
     "name": "stderr",
     "output_type": "stream",
     "text": [
      " 66%|██████▋   | 14201/21419 [2:18:07<1:09:40,  1.73it/s]"
     ]
    },
    {
     "name": "stdout",
     "output_type": "stream",
     "text": [
      "Where is Chicago Rockets? It is located in  Chicago\n"
     ]
    },
    {
     "name": "stderr",
     "output_type": "stream",
     "text": [
      " 67%|██████▋   | 14301/21419 [2:19:05<1:07:28,  1.76it/s]"
     ]
    },
    {
     "name": "stdout",
     "output_type": "stream",
     "text": [
      "The headquarters of Da Capo Press is in  New York\n"
     ]
    },
    {
     "name": "stderr",
     "output_type": "stream",
     "text": [
      " 67%|██████▋   | 14401/21419 [2:20:04<1:09:19,  1.69it/s]"
     ]
    },
    {
     "name": "stdout",
     "output_type": "stream",
     "text": [
      "Collins Harbour is in  the continent of Antarctica\n"
     ]
    },
    {
     "name": "stderr",
     "output_type": "stream",
     "text": [
      " 68%|██████▊   | 14501/21419 [2:21:02<1:08:02,  1.69it/s]"
     ]
    },
    {
     "name": "stdout",
     "output_type": "stream",
     "text": [
      "In Canton of Valais, an official language is  French\n"
     ]
    },
    {
     "name": "stderr",
     "output_type": "stream",
     "text": [
      " 68%|██████▊   | 14601/21419 [2:22:01<1:05:35,  1.73it/s]"
     ]
    },
    {
     "name": "stdout",
     "output_type": "stream",
     "text": [
      "In Bosnia and Herzegovina, the language spoken is  Bosnian\n"
     ]
    },
    {
     "name": "stderr",
     "output_type": "stream",
     "text": [
      " 69%|██████▊   | 14701/21419 [2:23:00<1:08:12,  1.64it/s]"
     ]
    },
    {
     "name": "stdout",
     "output_type": "stream",
     "text": [
      "Bayerischer Rundfunk's headquarters are in  Munich\n"
     ]
    },
    {
     "name": "stderr",
     "output_type": "stream",
     "text": [
      " 69%|██████▉   | 14801/21419 [2:23:59<1:02:20,  1.77it/s]"
     ]
    },
    {
     "name": "stdout",
     "output_type": "stream",
     "text": [
      "Torreys Peak is in  Colorado\n"
     ]
    },
    {
     "name": "stderr",
     "output_type": "stream",
     "text": [
      " 70%|██████▉   | 14901/21419 [2:24:57<1:03:15,  1.72it/s]"
     ]
    },
    {
     "name": "stdout",
     "output_type": "stream",
     "text": [
      "Christoph Willibald von Gluck found employment in  Vienna\n"
     ]
    },
    {
     "name": "stderr",
     "output_type": "stream",
     "text": [
      " 70%|███████   | 15001/21419 [2:25:55<1:01:28,  1.74it/s]"
     ]
    },
    {
     "name": "stdout",
     "output_type": "stream",
     "text": [
      "The mother tongue of Paolo Tiralongo is  Italian\n"
     ]
    },
    {
     "name": "stderr",
     "output_type": "stream",
     "text": [
      " 71%|███████   | 15101/21419 [2:26:54<1:01:37,  1.71it/s]"
     ]
    },
    {
     "name": "stdout",
     "output_type": "stream",
     "text": [
      "The language of International Political Sociology is  English\n"
     ]
    },
    {
     "name": "stderr",
     "output_type": "stream",
     "text": [
      " 71%|███████   | 15201/21419 [2:27:52<1:02:34,  1.66it/s]"
     ]
    },
    {
     "name": "stdout",
     "output_type": "stream",
     "text": [
      "The language of Espreso TV is  Spanish\n"
     ]
    },
    {
     "name": "stderr",
     "output_type": "stream",
     "text": [
      " 71%|███████▏  | 15301/21419 [2:28:50<58:10,  1.75it/s]  "
     ]
    },
    {
     "name": "stdout",
     "output_type": "stream",
     "text": [
      "route 75, located in  the country of United States\n"
     ]
    },
    {
     "name": "stderr",
     "output_type": "stream",
     "text": [
      " 72%|███████▏  | 15401/21419 [2:29:49<58:47,  1.71it/s]  "
     ]
    },
    {
     "name": "stdout",
     "output_type": "stream",
     "text": [
      "Excuse 17 started in  New York City\n"
     ]
    },
    {
     "name": "stderr",
     "output_type": "stream",
     "text": [
      " 72%|███████▏  | 15501/21419 [2:30:47<55:00,  1.79it/s]  "
     ]
    },
    {
     "name": "stdout",
     "output_type": "stream",
     "text": [
      "Bath Stone, that originated in  England\n"
     ]
    },
    {
     "name": "stderr",
     "output_type": "stream",
     "text": [
      " 73%|███████▎  | 15601/21419 [2:31:45<57:13,  1.69it/s]  "
     ]
    },
    {
     "name": "stdout",
     "output_type": "stream",
     "text": [
      "Packard, whose headquarters are in  Detroit\n"
     ]
    },
    {
     "name": "stderr",
     "output_type": "stream",
     "text": [
      " 73%|███████▎  | 15701/21419 [2:32:43<54:46,  1.74it/s]"
     ]
    },
    {
     "name": "stdout",
     "output_type": "stream",
     "text": [
      "Concentration debuted on  NBC\n"
     ]
    },
    {
     "name": "stderr",
     "output_type": "stream",
     "text": [
      " 74%|███████▍  | 15801/21419 [2:33:42<55:19,  1.69it/s]"
     ]
    },
    {
     "name": "stdout",
     "output_type": "stream",
     "text": [
      "The language of Arahan is  Korean\n"
     ]
    },
    {
     "name": "stderr",
     "output_type": "stream",
     "text": [
      " 74%|███████▍  | 15901/21419 [2:34:40<54:11,  1.70it/s]"
     ]
    },
    {
     "name": "stdout",
     "output_type": "stream",
     "text": [
      "Time for Revenge, that was from  Russia\n"
     ]
    },
    {
     "name": "stderr",
     "output_type": "stream",
     "text": [
      " 75%|███████▍  | 16001/21419 [2:35:39<51:30,  1.75it/s]"
     ]
    },
    {
     "name": "stdout",
     "output_type": "stream",
     "text": [
      "Al-Dhahabi is affiliated with the religion  Islam\n"
     ]
    },
    {
     "name": "stderr",
     "output_type": "stream",
     "text": [
      " 75%|███████▌  | 16101/21419 [2:36:37<53:22,  1.66it/s]"
     ]
    },
    {
     "name": "stdout",
     "output_type": "stream",
     "text": [
      "Porsche 997, developed by  Porsche\n"
     ]
    },
    {
     "name": "stderr",
     "output_type": "stream",
     "text": [
      " 76%|███████▌  | 16201/21419 [2:37:35<50:11,  1.73it/s]"
     ]
    },
    {
     "name": "stdout",
     "output_type": "stream",
     "text": [
      "Sir James Whitehead, 1st Baronet took up work in  London\n"
     ]
    },
    {
     "name": "stderr",
     "output_type": "stream",
     "text": [
      " 76%|███████▌  | 16301/21419 [2:38:33<48:01,  1.78it/s]"
     ]
    },
    {
     "name": "stdout",
     "output_type": "stream",
     "text": [
      "Urban I holds the title of  bishop\n"
     ]
    },
    {
     "name": "stderr",
     "output_type": "stream",
     "text": [
      " 77%|███████▋  | 16401/21419 [2:39:31<46:02,  1.82it/s]"
     ]
    },
    {
     "name": "stdout",
     "output_type": "stream",
     "text": [
      "Pete Atkin, of  BBC\n"
     ]
    },
    {
     "name": "stderr",
     "output_type": "stream",
     "text": [
      " 77%|███████▋  | 16501/21419 [2:40:30<48:14,  1.70it/s]"
     ]
    },
    {
     "name": "stdout",
     "output_type": "stream",
     "text": [
      "In Republic of Adygea, the language spoken is  Circassian\n"
     ]
    },
    {
     "name": "stderr",
     "output_type": "stream",
     "text": [
      " 78%|███████▊  | 16601/21419 [2:41:27<46:43,  1.72it/s]"
     ]
    },
    {
     "name": "stdout",
     "output_type": "stream",
     "text": [
      "OneDrive, a product manufactured by  Microsoft\n"
     ]
    },
    {
     "name": "stderr",
     "output_type": "stream",
     "text": [
      " 78%|███████▊  | 16701/21419 [2:42:26<45:50,  1.72it/s]"
     ]
    },
    {
     "name": "stdout",
     "output_type": "stream",
     "text": [
      "Pitchfork's headquarters are in  Chicago\n"
     ]
    },
    {
     "name": "stderr",
     "output_type": "stream",
     "text": [
      " 78%|███████▊  | 16801/21419 [2:43:24<43:56,  1.75it/s]"
     ]
    },
    {
     "name": "stdout",
     "output_type": "stream",
     "text": [
      "Sense8 premieres on  Netflix\n"
     ]
    },
    {
     "name": "stderr",
     "output_type": "stream",
     "text": [
      " 79%|███████▉  | 16901/21419 [2:44:22<42:21,  1.78it/s]"
     ]
    },
    {
     "name": "stdout",
     "output_type": "stream",
     "text": [
      "Basilio Pompilj holds the position of  cardinal\n"
     ]
    },
    {
     "name": "stderr",
     "output_type": "stream",
     "text": [
      " 79%|███████▉  | 17001/21419 [2:45:21<44:28,  1.66it/s]"
     ]
    },
    {
     "name": "stdout",
     "output_type": "stream",
     "text": [
      "The language of Glas Slavonije is  Croatian\n"
     ]
    },
    {
     "name": "stderr",
     "output_type": "stream",
     "text": [
      " 80%|███████▉  | 17101/21419 [2:46:19<42:27,  1.69it/s]"
     ]
    },
    {
     "name": "stdout",
     "output_type": "stream",
     "text": [
      "Guiding Light premieres on  CBS\n"
     ]
    },
    {
     "name": "stderr",
     "output_type": "stream",
     "text": [
      " 80%|████████  | 17201/21419 [2:47:17<42:38,  1.65it/s]"
     ]
    },
    {
     "name": "stdout",
     "output_type": "stream",
     "text": [
      "Where is NatFilm Festival? It is located in  Norway\n"
     ]
    },
    {
     "name": "stderr",
     "output_type": "stream",
     "text": [
      " 81%|████████  | 17301/21419 [2:48:16<41:11,  1.67it/s]"
     ]
    },
    {
     "name": "stdout",
     "output_type": "stream",
     "text": [
      "In Porvoo, they understand  Finnish\n"
     ]
    },
    {
     "name": "stderr",
     "output_type": "stream",
     "text": [
      " 81%|████████  | 17401/21419 [2:49:14<38:40,  1.73it/s]"
     ]
    },
    {
     "name": "stdout",
     "output_type": "stream",
     "text": [
      "The Caterpillar Wish from  Brazil\n"
     ]
    },
    {
     "name": "stderr",
     "output_type": "stream",
     "text": [
      " 82%|████████▏ | 17501/21419 [2:50:13<38:33,  1.69it/s]"
     ]
    },
    {
     "name": "stdout",
     "output_type": "stream",
     "text": [
      "Toyota Camry is a product of  Toyota\n"
     ]
    },
    {
     "name": "stderr",
     "output_type": "stream",
     "text": [
      " 82%|████████▏ | 17601/21419 [2:51:11<36:47,  1.73it/s]"
     ]
    },
    {
     "name": "stdout",
     "output_type": "stream",
     "text": [
      "Grianan of Aileach, in  Ireland\n"
     ]
    },
    {
     "name": "stderr",
     "output_type": "stream",
     "text": [
      " 83%|████████▎ | 17701/21419 [2:52:09<35:33,  1.74it/s]"
     ]
    },
    {
     "name": "stdout",
     "output_type": "stream",
     "text": [
      "Microsoft Office is created by  Microsoft\n"
     ]
    },
    {
     "name": "stderr",
     "output_type": "stream",
     "text": [
      " 83%|████████▎ | 17801/21419 [2:53:08<35:44,  1.69it/s]"
     ]
    },
    {
     "name": "stdout",
     "output_type": "stream",
     "text": [
      "The twin city of Istanbul is  Izmir\n"
     ]
    },
    {
     "name": "stderr",
     "output_type": "stream",
     "text": [
      " 84%|████████▎ | 17901/21419 [2:54:06<34:51,  1.68it/s]"
     ]
    },
    {
     "name": "stdout",
     "output_type": "stream",
     "text": [
      "ice cream cone is located in  United States\n"
     ]
    },
    {
     "name": "stderr",
     "output_type": "stream",
     "text": [
      " 84%|████████▍ | 18001/21419 [2:55:04<32:44,  1.74it/s]"
     ]
    },
    {
     "name": "stdout",
     "output_type": "stream",
     "text": [
      "FHM India, that was from  India\n"
     ]
    },
    {
     "name": "stderr",
     "output_type": "stream",
     "text": [
      " 85%|████████▍ | 18101/21419 [2:56:03<31:56,  1.73it/s]"
     ]
    },
    {
     "name": "stdout",
     "output_type": "stream",
     "text": [
      "Frans G. Bengtsson spoke the language  Swedish\n"
     ]
    },
    {
     "name": "stderr",
     "output_type": "stream",
     "text": [
      " 85%|████████▍ | 18201/21419 [2:57:01<31:30,  1.70it/s]"
     ]
    },
    {
     "name": "stdout",
     "output_type": "stream",
     "text": [
      "Bob Wallace, who works for  BBC\n"
     ]
    },
    {
     "name": "stderr",
     "output_type": "stream",
     "text": [
      " 85%|████████▌ | 18301/21419 [2:58:00<30:26,  1.71it/s]"
     ]
    },
    {
     "name": "stdout",
     "output_type": "stream",
     "text": [
      "The location of 2015 World Men's Handball Championship is  Qatar\n"
     ]
    },
    {
     "name": "stderr",
     "output_type": "stream",
     "text": [
      " 86%|████████▌ | 18401/21419 [2:58:58<29:13,  1.72it/s]"
     ]
    },
    {
     "name": "stdout",
     "output_type": "stream",
     "text": [
      "tatami, that was formulated in  Japan\n"
     ]
    },
    {
     "name": "stderr",
     "output_type": "stream",
     "text": [
      " 86%|████████▋ | 18501/21419 [2:59:57<28:43,  1.69it/s]"
     ]
    },
    {
     "name": "stdout",
     "output_type": "stream",
     "text": [
      "Berlin State Opera can be found in  Germany\n"
     ]
    },
    {
     "name": "stderr",
     "output_type": "stream",
     "text": [
      " 87%|████████▋ | 18601/21419 [3:00:55<27:45,  1.69it/s]"
     ]
    },
    {
     "name": "stdout",
     "output_type": "stream",
     "text": [
      "Carl Theodor Zahle used to work in  Copenhagen\n"
     ]
    },
    {
     "name": "stderr",
     "output_type": "stream",
     "text": [
      " 87%|████████▋ | 18701/21419 [3:01:54<26:17,  1.72it/s]"
     ]
    },
    {
     "name": "stdout",
     "output_type": "stream",
     "text": [
      "Antanas Baranauskas has the position of  bishop\n"
     ]
    },
    {
     "name": "stderr",
     "output_type": "stream",
     "text": [
      " 88%|████████▊ | 18801/21419 [3:02:52<25:26,  1.71it/s]"
     ]
    },
    {
     "name": "stdout",
     "output_type": "stream",
     "text": [
      "Snobs, that was from  United Kingdom\n"
     ]
    },
    {
     "name": "stderr",
     "output_type": "stream",
     "text": [
      " 88%|████████▊ | 18901/21419 [3:03:50<24:19,  1.73it/s]"
     ]
    },
    {
     "name": "stdout",
     "output_type": "stream",
     "text": [
      "B. Hick and Sons, whose headquarters are in  Sydney\n"
     ]
    },
    {
     "name": "stderr",
     "output_type": "stream",
     "text": [
      " 89%|████████▊ | 19001/21419 [3:04:48<24:23,  1.65it/s]"
     ]
    },
    {
     "name": "stdout",
     "output_type": "stream",
     "text": [
      "Uqba ibn Nafi is affiliated with the religion  Islam\n"
     ]
    },
    {
     "name": "stderr",
     "output_type": "stream",
     "text": [
      " 89%|████████▉ | 19101/21419 [3:05:47<22:01,  1.75it/s]"
     ]
    },
    {
     "name": "stdout",
     "output_type": "stream",
     "text": [
      "Don Durant works as  actor\n"
     ]
    },
    {
     "name": "stderr",
     "output_type": "stream",
     "text": [
      " 90%|████████▉ | 19201/21419 [3:06:45<21:12,  1.74it/s]"
     ]
    },
    {
     "name": "stdout",
     "output_type": "stream",
     "text": [
      "Roman Reigns is a professional  wrestler\n"
     ]
    },
    {
     "name": "stderr",
     "output_type": "stream",
     "text": [
      " 90%|█████████ | 19301/21419 [3:07:44<21:09,  1.67it/s]"
     ]
    },
    {
     "name": "stdout",
     "output_type": "stream",
     "text": [
      "The original language of Nationalencyklopedin was  Swedish\n"
     ]
    },
    {
     "name": "stderr",
     "output_type": "stream",
     "text": [
      " 91%|█████████ | 19401/21419 [3:08:43<19:55,  1.69it/s]"
     ]
    },
    {
     "name": "stdout",
     "output_type": "stream",
     "text": [
      "Panch phoron, that was formulated in  Bangladesh\n"
     ]
    },
    {
     "name": "stderr",
     "output_type": "stream",
     "text": [
      " 91%|█████████ | 19501/21419 [3:09:41<18:42,  1.71it/s]"
     ]
    },
    {
     "name": "stdout",
     "output_type": "stream",
     "text": [
      "Grace Lynn Kung is originally from  Hong Kong\n"
     ]
    },
    {
     "name": "stderr",
     "output_type": "stream",
     "text": [
      " 92%|█████████▏| 19601/21419 [3:10:40<17:43,  1.71it/s]"
     ]
    },
    {
     "name": "stdout",
     "output_type": "stream",
     "text": [
      "The original language of Kampf um Rom I is  German\n"
     ]
    },
    {
     "name": "stderr",
     "output_type": "stream",
     "text": [
      " 92%|█████████▏| 19701/21419 [3:11:38<16:21,  1.75it/s]"
     ]
    },
    {
     "name": "stdout",
     "output_type": "stream",
     "text": [
      "Everard Home passed away at  Cambridge\n"
     ]
    },
    {
     "name": "stderr",
     "output_type": "stream",
     "text": [
      " 92%|█████████▏| 19801/21419 [3:12:36<15:55,  1.69it/s]"
     ]
    },
    {
     "name": "stdout",
     "output_type": "stream",
     "text": [
      "Poya is follower of  Buddhism\n"
     ]
    },
    {
     "name": "stderr",
     "output_type": "stream",
     "text": [
      " 93%|█████████▎| 19901/21419 [3:13:34<14:55,  1.70it/s]"
     ]
    },
    {
     "name": "stdout",
     "output_type": "stream",
     "text": [
      "The genre played by Harold Dejan is  jazz\n"
     ]
    },
    {
     "name": "stderr",
     "output_type": "stream",
     "text": [
      " 93%|█████████▎| 20001/21419 [3:14:32<14:07,  1.67it/s]"
     ]
    },
    {
     "name": "stdout",
     "output_type": "stream",
     "text": [
      "Marcel Pagnol, a native  French\n"
     ]
    },
    {
     "name": "stderr",
     "output_type": "stream",
     "text": [
      " 94%|█████████▍| 20101/21419 [3:15:30<12:22,  1.77it/s]"
     ]
    },
    {
     "name": "stdout",
     "output_type": "stream",
     "text": [
      "Wild Bill Davis plays the  instrument piano\n"
     ]
    },
    {
     "name": "stderr",
     "output_type": "stream",
     "text": [
      " 94%|█████████▍| 20201/21419 [3:16:29<11:46,  1.72it/s]"
     ]
    },
    {
     "name": "stdout",
     "output_type": "stream",
     "text": [
      "Astaldi is based in  Rome\n"
     ]
    },
    {
     "name": "stderr",
     "output_type": "stream",
     "text": [
      " 95%|█████████▍| 20301/21419 [3:17:27<10:53,  1.71it/s]"
     ]
    },
    {
     "name": "stdout",
     "output_type": "stream",
     "text": [
      "3-2-1 Contact debuted on  PBS\n"
     ]
    },
    {
     "name": "stderr",
     "output_type": "stream",
     "text": [
      " 95%|█████████▌| 20401/21419 [3:18:26<09:34,  1.77it/s]"
     ]
    },
    {
     "name": "stdout",
     "output_type": "stream",
     "text": [
      "Gripin started in  Tokyo\n"
     ]
    },
    {
     "name": "stderr",
     "output_type": "stream",
     "text": [
      " 96%|█████████▌| 20501/21419 [3:19:24<08:49,  1.73it/s]"
     ]
    },
    {
     "name": "stdout",
     "output_type": "stream",
     "text": [
      "What does Ottawan play? They play  jazz\n"
     ]
    },
    {
     "name": "stderr",
     "output_type": "stream",
     "text": [
      " 96%|█████████▌| 20601/21419 [3:20:22<08:04,  1.69it/s]"
     ]
    },
    {
     "name": "stdout",
     "output_type": "stream",
     "text": [
      "Sima Qian specializes in  history\n"
     ]
    },
    {
     "name": "stderr",
     "output_type": "stream",
     "text": [
      " 97%|█████████▋| 20701/21419 [3:21:19<06:54,  1.73it/s]"
     ]
    },
    {
     "name": "stdout",
     "output_type": "stream",
     "text": [
      "Joseph Clay was native to  New York\n"
     ]
    },
    {
     "name": "stderr",
     "output_type": "stream",
     "text": [
      " 97%|█████████▋| 20801/21419 [3:22:18<05:55,  1.74it/s]"
     ]
    },
    {
     "name": "stdout",
     "output_type": "stream",
     "text": [
      "Al Ahmadi Governorate is located in  the country of Oman\n"
     ]
    },
    {
     "name": "stderr",
     "output_type": "stream",
     "text": [
      " 98%|█████████▊| 20901/21419 [3:23:16<05:01,  1.72it/s]"
     ]
    },
    {
     "name": "stdout",
     "output_type": "stream",
     "text": [
      "Akbar follows the religion of  Islam\n"
     ]
    },
    {
     "name": "stderr",
     "output_type": "stream",
     "text": [
      " 98%|█████████▊| 21001/21419 [3:24:14<04:09,  1.68it/s]"
     ]
    },
    {
     "name": "stdout",
     "output_type": "stream",
     "text": [
      "The profession of Eoin Ryan, Jnr is  politician\n"
     ]
    },
    {
     "name": "stderr",
     "output_type": "stream",
     "text": [
      " 99%|█████████▊| 21101/21419 [3:25:14<03:10,  1.67it/s]"
     ]
    },
    {
     "name": "stdout",
     "output_type": "stream",
     "text": [
      "Johann Georg Gmelin specializes in  chemistry\n"
     ]
    },
    {
     "name": "stderr",
     "output_type": "stream",
     "text": [
      " 99%|█████████▉| 21201/21419 [3:26:12<02:06,  1.73it/s]"
     ]
    },
    {
     "name": "stdout",
     "output_type": "stream",
     "text": [
      "Wiener Zeitung, by  Wiener Zeitung\n"
     ]
    },
    {
     "name": "stderr",
     "output_type": "stream",
     "text": [
      " 99%|█████████▉| 21301/21419 [3:27:10<01:07,  1.75it/s]"
     ]
    },
    {
     "name": "stdout",
     "output_type": "stream",
     "text": [
      "Matt Dennis is known for performing  jazz\n"
     ]
    },
    {
     "name": "stderr",
     "output_type": "stream",
     "text": [
      "100%|█████████▉| 21401/21419 [3:28:08<00:10,  1.72it/s]"
     ]
    },
    {
     "name": "stdout",
     "output_type": "stream",
     "text": [
      "Constantine the Great is affiliated with the religion  Christianity\n"
     ]
    },
    {
     "name": "stderr",
     "output_type": "stream",
     "text": [
      "100%|██████████| 21419/21419 [3:28:18<00:00,  1.71it/s]\n"
     ]
    }
   ],
   "source": [
    "from tqdm import tqdm\n",
    "with open('/data/maxb/mememe/EasyEdit/cf/counterfact.json', 'r') as f:\n",
    "    data = json.load(f)\n",
    "\n",
    "relations = []\n",
    "for i, d in enumerate(data):\n",
    "    relations.append(d['requested_rewrite']['relation_id'])\n",
    "    \n",
    "relations = set(relations)\n",
    "len(relations)\n",
    "\n",
    "# demo = []\n",
    "# demo_id = []\n",
    "# for ri in relations:\n",
    "#     for i, d in enumerate(data):\n",
    "#         if d['requested_rewrite']['relation_id'] == ri:\n",
    "#             demo.append(d['requested_rewrite']['prompt'].format(d['requested_rewrite']['subject'])+ \" \" +d['requested_rewrite']['target_true']['str'])\n",
    "#             demo_id.append(i)\n",
    "#             break\n",
    "# len(demo)\n",
    "# demos = '\\n'.join(demo)\n",
    "\n",
    "\n",
    "def find_demos(data, relation, id):\n",
    "    demo = []\n",
    "    for d in data:\n",
    "        if d['case_id'] != id and d['requested_rewrite']['relation_id'] == relation:\n",
    "            demo.append(d['requested_rewrite']['prompt'].format(d['requested_rewrite']['subject'])+ \" \" +d['requested_rewrite']['target_true']['str'])\n",
    "            if len(demo) == 10:\n",
    "                break\n",
    "    assert len(demo) == 10 or d == data[-1]\n",
    "    return '\\n'.join(demo)\n",
    "data = data[500:]\n",
    "for i, d in enumerate(tqdm(data)):\n",
    "    demos = find_demos(data[:500], d['requested_rewrite']['relation_id'], d['case_id'])\n",
    "    prompt = \"Complete the sentence with an entity.\\n\" + demos + '\\n' + d['requested_rewrite']['prompt'].format(d['requested_rewrite']['subject'])\n",
    "    # print(prompt)\n",
    "    q =  d['requested_rewrite']['prompt'].format(d['requested_rewrite']['subject'])\n",
    "    if q in demos:\n",
    "        data[i]['output'] = '<demo>'\n",
    "    batch = tokenizer(prompt, return_tensors='pt', padding=True)\n",
    "    outputs = model.generate(\n",
    "        input_ids = batch['input_ids'].to(device),\n",
    "        attention_mask = batch['attention_mask'].to(device),\n",
    "        max_new_tokens = 12,\n",
    "        do_sample=False\n",
    "    )\n",
    "    text = tokenizer.decode(outputs.detach().cpu().numpy().tolist()[0], skip_special_tokens=True)\n",
    "    text = text.replace(prompt, '')\n",
    "    text = text.split('\\n')[0]\n",
    "    # print(text)\n",
    "    data[i]['output'] = text\n",
    "    if i%100 == 0:\n",
    "        # print(prompt)\n",
    "        print(d['requested_rewrite']['prompt'].format(d['requested_rewrite']['subject']), text)\n",
    "        # print(text)\n",
    "    "
   ]
  },
  {
   "cell_type": "code",
   "execution_count": 50,
   "metadata": {},
   "outputs": [
    {
     "data": {
      "text/plain": [
       "' French'"
      ]
     },
     "execution_count": 50,
     "metadata": {},
     "output_type": "execute_result"
    }
   ],
   "source": [
    "data[0]['output']"
   ]
  },
  {
   "cell_type": "code",
   "execution_count": 98,
   "metadata": {},
   "outputs": [
    {
     "name": "stdout",
     "output_type": "stream",
     "text": [
      "Sunshine [' Fantasy', 0] 0\n",
      "Brunswick [' Braunschweig', 0] 0\n",
      "Montreal [' Montreal', 1] 1\n",
      "Japan [' the United States', 0] 0\n",
      "Beijing [' Rome', 0] 0\n",
      "Sydney [' Manchester', 0] 0\n",
      "linebacker [' midfielder', 0] 0\n",
      "Liverpool [' London', 0] 0\n",
      "Chicago [' Los Angeles', 0] 0\n",
      "Sydney [' Sydney', 1] 1\n",
      "goaltender [' goaltender', 1] 1\n",
      "opera [' opera', 1] 1\n",
      "Athens [' Athens', 1] 1\n",
      "Antarctica [' the continent of Antarctica', 1] 1\n",
      "Apple [' Apple', 1] 1\n",
      "Warsaw [' Berlin', 0] 0\n",
      "NBC [' NBC', 1] 1\n",
      "Vancouver [' Los Angeles', 0] 0\n",
      "Germany [' Federal Republic of Germany', 1] 1\n",
      "Korean [' Russian', 0] 0\n",
      "CBS [' MTV', 0] 0\n",
      "mathematics [' mathematics', 1] 1\n",
      "BBC [' BBC', 1] 1\n",
      "French [' French', 1] 1\n",
      "Dublin [' New York', 0] 0\n",
      "Dutch [' Dutch', 1] 1\n",
      "Toronto [' Toronto', 1] 1\n",
      "Oregon [' Oregon', 1] 1\n",
      "Canada [' Canada', 1] 1\n",
      "jazz [' jazz', 1] 1\n",
      "India [' India', 1] 1\n",
      "Athens [' Tokyo', 0] 0\n",
      "jazz [' jazz', 1] 1\n",
      "Antarctica [' Antarctica', 1] 1\n",
      "English [' German', 0] 0\n",
      "French [' the language French', 1] 1\n",
      "Swansea [' Cambria', 0] 0\n",
      "London [' New York', 0] 0\n",
      "midfielder [' midfielder', 1] 1\n",
      "French [' French', 1] 1\n",
      "jazz [' jazz', 1] 1\n",
      "ESPN [' ESPN', 1] 1\n",
      "Paris [' Paris', 1] 1\n",
      "Seattle [' San Francisco', 0] 0\n",
      "Cairo [' Cairo', 1] 1\n",
      "Intel ['', 0] 0\n",
      "Italian [' Italian', 1] 1\n",
      "Europe [' the continent Europe', 1] 1\n",
      "Livingston [' Livingston', 1] 1\n",
      "English [' Irish', 0] 0\n",
      "midfielder [' midfielder', 1] 1\n",
      "Europe [' of Europe', 1] 1\n",
      "Armenian [' Turkish', 0] 0\n",
      "Latvia [' Latvia', 1] 1\n",
      "Scotland [' Scotland', 1] 1\n",
      "Delhi [' Delhi', 1] 1\n",
      "bishop [' bishop', 1] 1\n",
      "Canada [' Canada', 1] 1\n",
      "composer [' composer', 1] 1\n",
      "Microsoft [' Microsoft', 1] 1\n",
      "Rome [' Turin', 0] 0\n",
      "Ferrari [' Ferrari', 1] 1\n",
      "Canada [' Denmark', 0] 0\n",
      "Tyler [' London', 0] 0\n",
      "mayor [' bishop', 0] 0\n",
      "Sudan [' China', 0] 0\n",
      "Antarctica [' the continent of Antarctica', 1] 1\n",
      "Ankara [' Ankara', 1] 1\n",
      "India [' Delhi', 0] 0\n",
      "ESPN [' ESPN', 1] 1\n",
      "French [' French', 1] 1\n",
      "jazz [' jazz', 1] 1\n",
      "Spain [' Spain', 1] 1\n",
      "Paris [' Paris', 1] 1\n",
      "Ottawa [' Toronto', 0] 0\n",
      "bishop [' bishop', 1] 1\n",
      "composer [' composer', 1] 1\n",
      "Paris [' Paris', 1] 1\n",
      "Bangkok [' Thailand', 0] 0\n",
      "Italy [' Italy', 1] 1\n",
      "Tehran [' Tehran', 1] 1\n",
      "Antarctica [' Antarctica', 1] 1\n",
      "midfielder [' of midfielder', 1] 1\n",
      "Boston [' Buenos Aires', 0] 0\n",
      "BMW [' BMW', 1] 1\n",
      "Tamil [' Tamil', 1] 1\n",
      "Finnish [' Finnish', 1] 1\n",
      "hockey [' hockey', 1] 1\n",
      "Montreal [' Jerusalem', 0] 0\n",
      "Turkey [' Turkey', 1] 1\n",
      "Seattle [' Seattle', 1] 1\n",
      "midfielder [' forward', 0] 0\n",
      "Brunswick [' Solar', 0] 0\n",
      "BBC [' BBC', 1] 1\n",
      "Queensland [' Queensland', 1] 1\n",
      "Moscow [' Moscow', 1] 1\n",
      "Oslo [' Oslo', 1] 1\n",
      "Bangladesh [' Japan', 0] 0\n",
      "French [' French', 1] 1\n",
      "Cleveland [' Cleveland', 1] 1\n",
      "Victoria [' California', 0] 0\n",
      "Scotland [' in London', 0] 0\n",
      "History [' History Channel', 1] 1\n",
      "Microsoft [' Microsoft', 1] 1\n",
      "French [' French', 1] 1\n",
      "Arizona [' Morocco', 0] 0\n",
      "Alexandria [' Buenos Aires', 0] 0\n",
      "Indonesian [' Indonesian', 1] 1\n",
      "Portuguese [' Spanish', 0] 0\n",
      "Rome [' Rome', 1] 1\n",
      "Finnish [' English', 0] 0\n",
      "Australia [' Australia', 1] 1\n",
      "Thailand [' Thailand', 1] 1\n",
      "IBM [' IBM', 1] 1\n",
      "violin [' violin', 1] 1\n",
      "Russian [' Russian', 1] 1\n",
      "midfielder [' forward', 0] 0\n",
      "BBC [' BBC', 1] 1\n",
      "Christianity [' Christianity', 1] 1\n",
      "opera [' jazz', 0] 0\n",
      "guitar [' guitar', 1] 1\n",
      "Athens [' Greece', 0] 0\n",
      "Thor [' Thor', 1] 1\n",
      "Russian [' Russian', 1] 1\n",
      "Jakarta [' Jakarta', 1] 1\n",
      "Hindi [' Hindi', 1] 1\n",
      "Madrid [' Madrid', 1] 1\n",
      "Intel [' Intel', 1] 1\n",
      "Israel [' Israel', 1] 1\n",
      "French [' French', 1] 1\n",
      "France [' France', 1] 1\n",
      "England [' Great Britain', 0] 0\n",
      "French [' French', 1] 1\n",
      "Sony [' Sony', 1] 1\n",
      "Nigeria [' Papua New Guinea', 0] 0\n",
      "politician [' politician', 1] 1\n",
      "opera [' opera', 1] 1\n",
      "French [' French', 1] 1\n",
      "poet [' actor', 0] 0\n",
      "Jerusalem [' India', 0] 0\n",
      "Tehran [' Tehran', 1] 1\n",
      "Islam [' Islam', 1] 1\n",
      "French [' French', 1] 1\n",
      "NBC [' NBC', 1] 1\n",
      "Dodge [' Dodge', 1] 1\n",
      "Paris [' Paris', 1] 1\n",
      "Islam [' Islam', 1] 1\n",
      "thriller [' jazz', 0] 0\n",
      "London [' Glasgow', 0] 0\n",
      "Spanish [' speaker of Spanish', 1] 1\n",
      "Honda [' Honda', 1] 1\n",
      "Denmark [' Greece', 0] 0\n",
      "Paris [' Paris', 1] 1\n",
      "Moscow [' Warsaw', 0] 0\n",
      "Argentina [' Argentina', 1] 1\n",
      "London [' Brussels', 0] 0\n",
      "Montgomery [' New York City', 0] 0\n",
      "Antarctica [' Antarctica', 1] 1\n",
      "funk [' funk', 1] 1\n",
      "Greece [' Greece', 1] 1\n",
      "India [' India', 1] 1\n",
      "bishop [' that of bishop', 1] 1\n",
      "Microsoft [' Microsoft', 1] 1\n",
      "NBC [' NBC', 1] 1\n",
      "Christianity [' Christianity', 1] 1\n",
      "Sky [' Sky', 1] 1\n",
      "Finnish [' Finnish', 1] 1\n",
      "Texas [' California', 0] 0\n",
      "politician [' composer', 0] 0\n",
      "bishop [' bishop', 1] 1\n",
      "Germany [' Germany', 1] 1\n",
      "physics [' nuclear physics', 1] 1\n",
      "Belgium [' Belgium', 1] 1\n",
      "guitar [' the guitar', 1] 1\n",
      "Spanish [' Spanish', 1] 1\n",
      "English [' English', 1] 1\n",
      "midfielder [' defender', 0] 0\n",
      "Italian [' Italian', 1] 1\n",
      "jazz [' jazz', 1] 1\n",
      "Hamburg [' Berlin', 0] 0\n",
      "violin [' violin', 1] 1\n",
      "Sega [' Sega', 1] 1\n",
      "baseball [' baseball', 1] 1\n",
      "Sega [' Sega', 1] 1\n",
      "Norway [' Iceland', 0] 0\n",
      "English [' English', 1] 1\n",
      "Sweden [' the country of Canada', 0] 0\n",
      "Apple [' Apple', 1] 1\n",
      "quarterback [' quarterback', 1] 1\n",
      "goaltender [' goaltender', 1] 1\n",
      "Ukrainian [' Spanish', 0] 0\n",
      "actor [' actress', 0] 0\n",
      "Berlin [' owner Berlin', 1] 1\n",
      "Toyota [' Toyota', 1] 1\n",
      "Dublin [' New York', 0] 0\n",
      "London [' Los Angeles', 0] 0\n",
      "French [' French', 1] 1\n",
      "jazz [' blues', 0] 0\n",
      "Florence [' Berlin', 0] 0\n",
      "HBO [' CBS', 0] 0\n",
      "Japan [' Japan', 1] 1\n",
      "Hungary [' France', 0] 0\n",
      "Fantasy [' Mercury', 0] 0\n",
      "English [' English', 1] 1\n",
      "Antarctica [' Antarctica', 1] 1\n",
      "Cincinnati [' Los Angeles', 0] 0\n",
      "fantasy [' horror', 0] 0\n",
      "English [' English', 1] 1\n",
      "trumpet [' guitar', 0] 0\n",
      "Catalan [' Catalan', 1] 1\n",
      "Cleveland [' Debrecen', 0] 0\n",
      "midfielder [' of midfielder', 1] 1\n",
      "Sydney [' Mexico City', 0] 0\n",
      "Linux [' Linus', 0] 0\n",
      "Ukrainian [' Ukrainian', 1] 1\n",
      "French [' French', 1] 1\n",
      "Spanish [' English, French, Chinese, Arabic, Russian and Spanish', 1] 1\n",
      "Arkansas [' Arkansas', 1] 1\n",
      "India [' India', 1] 1\n",
      "Bangalore [' Budapest', 0] 0\n",
      "Russian [' English', 0] 0\n",
      "midfielder [' forward', 0] 0\n",
      "Bihar [' Bihar', 1] 1\n",
      "Nintendo [' Nintendo', 1] 1\n",
      "Denmark [' Denmark', 1] 1\n",
      "opera [' opera', 1] 1\n",
      "Windsor [' Windsor', 1] 1\n",
      "Russian [' Tatar', 0] 0\n",
      "outfielder [' wide receiver', 0] 0\n",
      "actor [' actor', 1] 1\n",
      "goaltender [' goaltender', 1] 1\n",
      "Japan [' Japan', 1] 1\n",
      "Sweden [' in Stockholm', 0] 0\n",
      "London [' London', 1] 1\n",
      "Rome [' Paris', 0] 0\n",
      "Dutch [' Dutch', 1] 1\n",
      "Dodge [' Arduino', 0] 0\n",
      "Louisiana [' Louisiana', 1] 1\n",
      "French [' French', 1] 1\n",
      "Australia [' Italy', 0] 0\n",
      "Nevada [' Nevada', 1] 1\n",
      "Sweden [' Sweden', 1] 1\n",
      "midfielder [' forward', 0] 0\n",
      "Indianapolis [' Houston', 0] 0\n",
      "Microsoft [' Microsoft', 1] 1\n",
      "Korean [' Korean', 1] 1\n",
      "composer [' composer', 1] 1\n",
      "Fiat [' BMW', 0] 0\n",
      "Pasadena [' Tel Aviv', 0] 0\n",
      "England [' the United Kingdom', 0] 0\n",
      "Paris [' Paris', 1] 1\n",
      "Asia [' Asia', 1] 1\n",
      "Switzerland [' Switzerland', 1] 1\n",
      "Square [' Square Enix', 1] 1\n",
      "midfielder [' midfielder', 1] 1\n",
      "Toyota [' Toyota', 1] 1\n",
      "Chandler [' Scottsdale', 0] 0\n",
      "bishop [' bishop', 1] 1\n",
      "Norway [' Norway', 1] 1\n",
      "Russian [' Russian', 1] 1\n",
      "Islam [' Islam', 1] 1\n",
      "Sweden [' France', 0] 0\n",
      "NBC [' NBC', 1] 1\n",
      "Microsoft [' Microsoft', 1] 1\n",
      "goaltender [' goaltender', 1] 1\n",
      "French [' French', 1] 1\n",
      "ecology [' ecology', 1] 1\n",
      "basketball [' basketball', 1] 1\n",
      "Brunswick [' Polydor', 0] 0\n",
      "French [' French', 1] 1\n",
      "Norman [' Norman', 1] 1\n",
      "Ferrari [' Ferrari', 1] 1\n",
      "Russian [' Russian', 1] 1\n",
      "Ireland [' Ireland', 1] 1\n",
      "Seattle [' New York', 0] 0\n",
      "Latin [' Greek', 0] 0\n",
      "Venice [' Toronto', 0] 0\n",
      "Islam [' Islam', 1] 1\n",
      "French [' French', 1] 1\n",
      "Russian [' Russian', 1] 1\n",
      "Australia [' Canada', 0] 0\n",
      "Qatar [' Qatar', 1] 1\n",
      "BBC [' BBC', 1] 1\n",
      "Israel [' Israel', 1] 1\n",
      "Austria [' France', 0] 0\n",
      "quarterback [' a wide receiver', 0] 0\n",
      "Cleveland [' Cleveland', 1] 1\n",
      "composer [' composer', 1] 1\n",
      "Kabul [' Kabul', 1] 1\n",
      "Honolulu [' New York', 0] 0\n",
      "Sydney [' Toronto', 0] 0\n",
      "Illinois [' Illinois', 1] 1\n",
      "midfielder [' forward', 0] 0\n",
      "Armenia [' Russia', 0] 0\n",
      "cardinal [' bishop', 0] 0\n",
      "geometry [' mathematics', 0] 0\n",
      "BBC [' BBC', 1] 1\n",
      "Antarctica [' of Antarctica', 1] 1\n",
      "Warsaw [' Warsaw', 1] 1\n",
      "French [' English', 0] 0\n",
      "Bangkok [' Singapore', 0] 0\n",
      "violin [' violin', 1] 1\n",
      "Antarctica [' Antarctica', 1] 1\n",
      "Jerusalem [' Tel Aviv', 0] 0\n",
      "Finnish [' Finnish', 1] 1\n",
      "BBC [' BBC', 1] 1\n",
      "Hindi [' Hindi', 1] 1\n",
      "composer [' musician', 0] 0\n",
      "French [' French', 1] 1\n",
      "Spanish [' Spanish', 1] 1\n",
      "Swedish [' Swedish', 1] 1\n",
      "Jordan [' Jordan', 1] 1\n",
      "Apple [' Apple', 1] 1\n",
      "London [' Florence', 0] 0\n",
      "Judaism [' Judaism', 1] 1\n",
      "Philadelphia [' Philadelphia', 1] 1\n",
      "BBC [' BBC', 1] 1\n",
      "actor [' musician', 0] 0\n",
      "Romanian [' Romanian', 1] 1\n",
      "Intel [' Intel', 1] 1\n",
      "astronomer [' composer', 0] 0\n",
      "German [' German', 1] 1\n",
      "Dutch [' of French', 0] 0\n",
      "Catalan [' Arabic', 0] 0\n",
      "Antarctica [' the continent of Antarctica', 1] 1\n",
      "Kiev [' Moscow', 0] 0\n",
      "Danish [' Danish', 1] 1\n",
      "Netherlands [' Normandy', 0] 0\n",
      "BMW [' BMW', 1] 1\n",
      "Asia [' Asia', 1] 1\n",
      "Oslo [' Oslo', 1] 1\n",
      "Paris [' Paris', 1] 1\n",
      "Cologne [' Cologne', 1] 1\n",
      "French [' the language Romanian', 0] 0\n",
      "Tamil [' Tamil', 1] 1\n",
      "satire [' jazz', 0] 0\n",
      "Dutch [' of Dutch', 1] 1\n",
      "Paris [' Moscow', 0] 0\n",
      "Manhattan [' New York City', 0] 0\n",
      "London [' Biggin Hill', 0] 0\n",
      "Antarctica [' the continent of Antarctica', 1] 1\n",
      "French [' French', 1] 1\n",
      "guitar [' violin', 0] 0\n",
      "fantasy [' rock', 0] 0\n",
      "London [' London', 1] 1\n",
      "French [' French', 1] 1\n",
      "Virginia [' West Virginia', 1] 1\n",
      "Denmark [' Norway', 0] 0\n",
      "Stockholm [' Stockholm', 1] 1\n",
      "Japan [' Japan', 1] 1\n",
      "French [' French', 1] 1\n",
      "Paris [' Paris', 1] 1\n",
      "Paris [' Paris', 1] 1\n",
      "quarterback [' defensive back', 0] 0\n",
      "Kiev [' Boryspil', 0] 0\n",
      "mathematics [' computer science', 0] 0\n",
      "Canada [' Australia', 0] 0\n",
      "Finland [' Finland', 1] 1\n",
      "Microsoft [' Microsoft', 1] 1\n",
      "Christian [' Islam', 0] 0\n",
      "jazz [' jazz', 1] 1\n",
      "NBC [' ABC', 0] 0\n",
      "CBS [' CBS', 1] 1\n",
      "BMW [' BMW', 1] 1\n",
      "sitcom [' rock', 0] 0\n",
      "piano [' piano', 1] 1\n",
      "Chicago [' Chicago', 1] 1\n",
      "Toyota [' Toyota', 1] 1\n",
      "Vermont [' New Zealand', 0] 0\n",
      "goaltender [' goaltender', 1] 1\n",
      "physiology [' physiology', 1] 1\n",
      "Stamford [' San Francisco', 0] 0\n",
      "opera [' jazz', 0] 0\n",
      "Microsoft [' Microsoft', 1] 1\n",
      "Canada [' New Zealand', 0] 0\n",
      "baseball [' baseball', 1] 1\n",
      "Italian [' Italian', 1] 1\n",
      "thriller [' action', 0] 0\n",
      "Greenwich [' New York City', 0] 0\n",
      "Dutch [' Dutch', 1] 1\n",
      "Massachusetts [' Massachusetts', 1] 1\n",
      "Cadillac [' Cadillac', 1] 1\n",
      "Spain [' Morocco', 0] 0\n",
      "piano [' piano', 1] 1\n",
      "CBS [' CBS', 1] 1\n",
      "Geneva [' Geneva', 1] 1\n",
      "actor [' composer', 0] 0\n",
      "McLaren [' Red Bull Racing', 0] 0\n",
      "Germany [' Germany', 1] 1\n",
      "Chicago [' Memphis', 0] 0\n",
      "French [' French', 1] 1\n",
      "Prague [' Vienna', 0] 0\n",
      "Kiev [' Kiev', 1] 1\n",
      "MTV [' MTV', 1] 1\n",
      "English [' Spanish', 0] 0\n",
      "Brazil [' Brazil', 1] 1\n",
      "Google [' Google', 1] 1\n",
      "guitar [' guitar', 1] 1\n",
      "Santiago [' Chile', 0] 0\n",
      "Africa [' Africa', 1] 1\n",
      "Hamburg [' New York', 0] 0\n",
      "Santiago [' Buenos Aires', 0] 0\n",
      "midfielder [' goaltender', 0] 0\n",
      "journalist [' politician', 0] 0\n",
      "Victoria [' Victoria', 1] 1\n",
      "Berlin [' Berlin', 1] 1\n",
      "Atlanta [' Atlanta', 1] 1\n",
      "mayor [' bishop', 0] 0\n",
      "Suzuki [' Suzuki', 1] 1\n",
      "Damascus [' Syria', 0] 0\n",
      "midfielder [' goaltender', 0] 0\n",
      "Preston [' New York', 0] 0\n",
      "London [' London', 1] 1\n",
      "Brazil [' Angola', 0] 0\n",
      "Tunisia [' Tunis', 0] 0\n",
      "BBC [' CNN', 0] 0\n",
      "Amsterdam [' Tokyo', 0] 0\n",
      "Tamil [' Malayalam', 0] 0\n",
      "guitar [' piano', 0] 0\n",
      "Berlin [' Berlin', 1] 1\n",
      "NBC [' ABC', 0] 0\n",
      "Italian [' Italian', 1] 1\n",
      "Honda [' Honda', 1] 1\n",
      "London [' London', 1] 1\n",
      "Brisbane [' Los Angeles', 0] 0\n",
      "Italian [' Italian', 1] 1\n",
      "midfielder [' of forward', 0] 0\n",
      "Wales [' Wales', 1] 1\n",
      "Glasgow [' London', 0] 0\n",
      "Sydney [' Sydney', 1] 1\n",
      "Amsterdam [' Amsterdam', 1] 1\n",
      "Vienna [' Vienna', 1] 1\n",
      "Airbus [' Airbus', 1] 1\n",
      "Liverpool [' London', 0] 0\n",
      "opera [' classical', 0] 0\n",
      "Italy [' Italy', 1] 1\n",
      "Oslo [' Paris', 0] 0\n",
      "economics [' political science', 0] 0\n",
      "quarterback [' of wide receiver', 0] 0\n",
      "actor [' actor', 1] 1\n",
      "actor [' actor', 1] 1\n",
      "English [' English', 1] 1\n",
      "French [' French', 1] 1\n",
      "Tamil [' Tamil', 1] 1\n",
      "Dodge [' Dodge', 1] 1\n",
      "France [' France', 1] 1\n",
      "Canterbury [' Canterbury', 1] 1\n",
      "England [' England', 1] 1\n",
      "trumpet [' saxophone', 0] 0\n",
      "jazz [' jazz', 1] 1\n",
      "Islam [' Islam', 1] 1\n",
      "medicine [' political science', 0] 0\n",
      "diplomat [' composer', 0] 0\n",
      "geography [' geography', 1] 1\n",
      "Hope [' Hope', 1] 1\n",
      "Polish [' Polish', 1] 1\n",
      "Mumbai [' Mumbai', 1] 1\n",
      "HBO [' HBO', 1] 1\n",
      "French [' French', 1] 1\n",
      "quarterback [' wide receiver', 0] 0\n",
      "quarterback [' of quarterback', 1] 1\n",
      "Antarctica [' the continent of Antarctica', 1] 1\n",
      "guitar [' bass guitar', 1] 1\n",
      "NBC [' NBC', 1] 1\n",
      "BP [' BP', 1] 1\n",
      "Portuguese [' Portuguese', 1] 1\n",
      "opera [' progressive rock', 0] 0\n",
      "Miami [' Seoul', 0] 0\n",
      "Norway [' Iceland', 0] 0\n",
      "Mexico [' Mexico', 1] 1\n",
      "guitar [' percussion', 0] 0\n",
      "London [' Naples', 0] 0\n",
      "actor [' actor', 1] 1\n",
      "English [' English', 1] 1\n",
      "TNT [' TBS', 0] 0\n",
      "soccer [' soccer', 1] 1\n",
      "football [' baseball', 0] 0\n",
      "California [' California', 1] 1\n",
      "Mumbai [' Tehran', 0] 0\n",
      "IBM [' BBC', 0] 0\n",
      "Canada [' the United States', 0] 0\n",
      "Hollywood [' Los Angeles', 0] 0\n",
      "Paris [' Paris', 1] 1\n",
      "bishop [' bishop', 1] 1\n",
      "Belgium [' Ypres', 0] 0\n",
      "Tours [' New York', 0] 0\n",
      "Oregon [' Oregon', 1] 1\n",
      "Suzuki [' Suzuki', 1] 1\n",
      "London [' Brighton', 0] 0\n",
      "goaltender [' goaltender', 1] 1\n",
      "London [' Tokyo', 0] 0\n",
      "Islam [' Islam', 1] 1\n",
      "India [' West Bengal', 0] 0\n",
      "violin ['', 0] 0\n",
      "CBS [' CBS', 1] 1\n",
      "Lancaster [' Washington D.C.', 0] 0\n",
      "Queensland [' Queensland', 1] 1\n",
      "Sweden [' Sweden', 1] 1\n",
      "Berlin [' Berlin', 1] 1\n",
      "Turkey [' Turkey', 1] 1\n",
      "guitar ['', 0] 0\n",
      "French [' French', 1] 1\n",
      "Cadillac [' Cadillac', 1] 1\n",
      "goaltender [' of defenseman', 0] 0\n",
      "Geneva [' Cairo', 0] 0\n",
      "CBS [' HBO', 0] 0\n",
      "Japan [' Japan', 1] 1\n",
      "Greece [' Greece', 1] 1\n",
      "Asia [' the continent of Asia', 1] 1\n",
      "Singapore [' Singapore', 1] 1\n",
      "Mexico [' Spain', 0] 0\n",
      "actor [' actor', 1] 1\n",
      "Russian [' Russian', 1] 1\n",
      "Australia [' Australia', 1] 1\n",
      "French [' Italian', 0] 0\n",
      "Brazil [' Brazil', 1] 1\n",
      "Canada [' Canada', 1] 1\n",
      "Hamburg [' Hamburg', 1] 1\n",
      "defender [' defender', 1] 1\n",
      "poet [' poet', 1] 1\n",
      "Brisbane [' Brisbane', 1] 1\n",
      "Venice [' Venice', 1] 1\n",
      "Dutch [' Dutch', 1] 1\n",
      "Antarctica [' the continent of Antarctica', 1] 1\n",
      "France [' France', 1] 1\n",
      "soccer ['', 0] 0\n",
      "Chrysler [' NASA', 0] 0\n",
      "Denver [' Auckland', 0] 0\n",
      "Detroit [' Detroit', 1] 1\n",
      "Antarctica [' the continent of Antarctica', 1] 1\n",
      "Russia [' Russia', 1] 1\n",
      "Rome [' Rome', 1] 1\n",
      "Italian [' Italian', 1] 1\n",
      "Antarctica [' Antarctica', 1] 1\n",
      "Utah [' Utah', 1] 1\n",
      "Fiat [' Fiat', 1] 1\n",
      "Europe [' of Europe', 1] 1\n",
      "French [' French', 1] 1\n",
      "Jakarta [' Moscow', 0] 0\n",
      "Tamil [' Tamil', 1] 1\n",
      "politician [' composer', 0] 0\n",
      "French [' English', 0] 0\n",
      "Camden [' London', 0] 0\n",
      "Venice [' Venice', 1] 1\n",
      "Australia [' Australia', 1] 1\n",
      "Spain [' Spain', 1] 1\n",
      "Sony [' Sony', 1] 1\n",
      "Massachusetts [' Rhode Island', 0] 0\n",
      "Romanian [' Romanian', 1] 1\n",
      "Latin [' the language German', 0] 0\n",
      "CBS [' NBC', 0] 0\n",
      "Alexandria [' Egypt', 0] 0\n",
      "WWE [' Orlando', 0] 0\n",
      "basketball [' basketball', 1] 1\n",
      "Google [' Google', 1] 1\n",
      "Madrid [' Madrid', 1] 1\n",
      "Spanish [' Spanish', 1] 1\n",
      "composer [' composer', 1] 1\n",
      "Antarctica [' the continent of Europe', 0] 0\n",
      "France [' France', 1] 1\n",
      "Norway [' Norway', 1] 1\n",
      "Detroit [' Detroit', 1] 1\n",
      "Manchester [' London', 0] 0\n",
      "BBC [' BBC', 1] 1\n",
      "BBC [' BBC', 1] 1\n",
      "Armenian [' Russian', 0] 0\n",
      "Philadelphia [' Philadelphia', 1] 1\n",
      "opera [' classical', 0] 0\n",
      "BBC [' PBS', 0] 0\n",
      "Cyprus [' Nicosia', 0] 0\n",
      "astronomy [' astronomy', 1] 1\n",
      "NBC [' WGN America', 0] 0\n",
      "Budapest [' Dublin', 0] 0\n",
      "Nissan [' Nissan', 1] 1\n",
      "Portuguese [' Guarani', 0] 0\n",
      "Spanish [' Spanish', 1] 1\n",
      "Russian [' Russian', 1] 1\n",
      "Berlin [' Berlin', 1] 1\n",
      "Tunisia [' Tunisia', 1] 1\n",
      "actor [' actor', 1] 1\n",
      "politician [' politician', 1] 1\n",
      "Spain [' Spain', 1] 1\n",
      "journalist [' politician', 0] 0\n",
      "BBC [' BBC', 1] 1\n",
      "Tamil [' linguistics', 0] 0\n",
      "Adobe [' Adobe', 1] 1\n",
      "Portuguese [' Portuguese', 1] 1\n",
      "Kyoto [' Tokyo', 0] 0\n",
      "bishop [' bishop', 1] 1\n",
      "London [' Cambridge', 0] 0\n",
      "Buddhism [' Buddhism', 1] 1\n",
      "Ethiopia [' Brazil', 0] 0\n",
      "piano [' trumpet', 0] 0\n",
      "Boston [' New York', 0] 0\n",
      "London [' London', 1] 1\n",
      "Norwegian [' Norwegian', 1] 1\n",
      "soccer [' soccer', 1] 1\n",
      "Renault [' Renault', 1] 1\n",
      "India [' India', 1] 1\n",
      "Minneapolis [' Minneapolis', 1] 1\n",
      "England [' England', 1] 1\n",
      "sitcom [' rock', 0] 0\n",
      "London [' Edinburgh', 0] 0\n",
      "Manhattan [' New York', 0] 0\n",
      "English [' Hebrew', 0] 0\n",
      "Melbourne [' London', 0] 0\n",
      "Turkish [' Turkish', 1] 1\n",
      "Japan [' Japan', 1] 1\n",
      "Nissan [' Prince', 0] 0\n",
      "actor [' actor', 1] 1\n",
      "FIFA [' UEFA', 0] 0\n",
      "catcher [' of catcher', 1] 1\n",
      "Dutch [' Dutch', 1] 1\n",
      "French [' French', 1] 1\n",
      "Berlin [' Berlin', 1] 1\n",
      "Utah [' Salt Lake City', 0] 0\n",
      "Apple [' Apple', 1] 1\n",
      "Islam [' Islam', 1] 1\n",
      "Honda [' Honda', 1] 1\n",
      "midfielder [' defender', 0] 0\n",
      "Sony [' Tokyo', 0] 0\n",
      "Intel [' Intel', 1] 1\n",
      "French [' French', 1] 1\n",
      "Nintendo [' Nintendo', 1] 1\n",
      "Europe [' Europe', 1] 1\n",
      "Japan [' Japan', 1] 1\n",
      "French [' French', 1] 1\n",
      "India [' India', 1] 1\n",
      "Edinburgh [' Delhi', 0] 0\n",
      "Honda [' Honda', 1] 1\n",
      "groundwater [' engineering', 0] 0\n",
      "Texas [' Texas', 1] 1\n",
      "piano [' keyboards', 0] 0\n",
      "London [' London', 1] 1\n",
      "Spanish [' Spanish', 1] 1\n",
      "Montreal [' Boston', 0] 0\n",
      "Hungary [' the United States', 0] 0\n",
      "History [' History', 1] 1\n",
      "BBC [' BBC', 1] 1\n",
      "Microsoft [' Microsoft', 1] 1\n",
      "Rome [' Rome', 1] 1\n",
      "jazz [' jazz', 1] 1\n",
      "Germany [' Japan', 0] 0\n",
      "midfielder [' midfielder', 1] 1\n",
      "Edinburgh [' Berlin', 0] 0\n",
      "midfielder [' of forward', 0] 0\n",
      "Europe [' the continent of Europe', 1] 1\n",
      "Japan [' Japan', 1] 1\n",
      "Istanbul [' Rome', 0] 0\n",
      "Lifetime [' Lifetime', 1] 1\n",
      "Portuguese [' English', 0] 0\n",
      "Danish [' Danish', 1] 1\n",
      "Copenhagen [' Copenhagen', 1] 1\n",
      "English [' English', 1] 1\n",
      "Budapest [' Budapest', 1] 1\n",
      "NBC [' NBC', 1] 1\n",
      "Ankara [' Sofia', 0] 0\n",
      "Madrid [' Madrid', 1] 1\n",
      "London [' Tokyo', 0] 0\n",
      "trance [' jazz', 0] 0\n",
      "bishop [' cardinal', 0] 0\n",
      "Buddhism [' Buddhism', 1] 1\n",
      "Antarctica [' the continent of Antarctica', 1] 1\n",
      "Greek [' of Greek', 1] 1\n",
      "French [' of French', 1] 1\n",
      "MTV [' MTV', 1] 1\n",
      "Berlin [' Berlin', 1] 1\n",
      "Tamil [' Tamil', 1] 1\n",
      "quarterback [' the goaltender', 0] 0\n",
      "Russian [' Hebrew', 0] 0\n",
      "Venice [' Venice', 1] 1\n",
      "India [' India', 1] 1\n",
      "Africa [' of Africa', 1] 1\n",
      "Egypt [' Saudi Arabia', 0] 0\n",
      "English [' English', 1] 1\n",
      "Spanish [' Spanish', 1] 1\n",
      "Islam [' Islam', 1] 1\n",
      "France [' France', 1] 1\n",
      "Fiat [' Fiat', 1] 1\n",
      "jazz [' jazz', 1] 1\n",
      "Romania [' Romania', 1] 1\n",
      "Dodge [' Dodge', 1] 1\n",
      "composer [' composer', 1] 1\n",
      "Vienna [' Vienna', 1] 1\n",
      "architect [' composer', 0] 0\n",
      "Japan [' Japan', 1] 1\n",
      "actor [' composer', 0] 0\n",
      "French [' English', 0] 0\n",
      "Budapest [' New York', 0] 0\n",
      "Japan [' Japan', 1] 1\n",
      "jazz [' jazz', 1] 1\n",
      "French [' Spanish', 0] 0\n",
      "Lyon [' Marseille', 0] 0\n",
      "astronomy [' astronomy', 1] 1\n",
      "Google [' Google', 1] 1\n",
      "Canada [' Canada', 1] 1\n",
      "Italian [' Italian', 1] 1\n",
      "English [' English', 1] 1\n",
      "Serbian [' Russian', 0] 0\n",
      "Ireland [' Ireland', 1] 1\n",
      "Apple [' Apple', 1] 1\n",
      "Moscow [' Moscow', 1] 1\n",
      "Paris [' Paris', 1] 1\n",
      "mathematician [' composer', 0] 0\n",
      "Vancouver [' Toronto', 0] 0\n",
      "Detroit [' Detroit', 1] 1\n",
      "violin [' the violin', 1] 1\n",
      "Japan [' Japan', 1] 1\n",
      "Australia [' the United States', 0] 0\n",
      "quarterback [' quarterback', 1] 1\n",
      "Swedish [' English', 0] 0\n",
      "pope [' bishop', 0] 0\n",
      "English [' English', 1] 1\n",
      "Saskatchewan [' Yorkshire', 0] 0\n",
      "Renault [' Renault', 1] 1\n",
      "Lyon [' Paris', 0] 0\n",
      "Islam [' Islam', 1] 1\n",
      "politician [' composer', 0] 0\n",
      "IBM [' IBM', 1] 1\n",
      "Adobe [' Adobe', 1] 1\n",
      "Andrew [' Quirinal', 0] 0\n",
      "Tokyo [' Tokyo', 1] 1\n",
      "actor [' politician', 0] 0\n",
      "Swedish [' Sami', 0] 0\n",
      "Judaism [' Judaism', 1] 1\n",
      "espionage [' national security', 0] 0\n",
      "Buddhism [' Buddhism', 1] 1\n",
      "Madrid [' Buenos Aires', 0] 0\n",
      "Prague [' Santiago', 0] 0\n",
      "midfielder [' midfielder', 1] 1\n",
      "Antarctica [' Antarctica', 1] 1\n",
      "Oslo [' France', 0] 0\n",
      "goaltender [' goaltender', 1] 1\n",
      "London [' New York', 0] 0\n",
      "Switzerland [' Italy', 0] 0\n",
      "Japan [' Japan', 1] 1\n",
      "actor [' actor', 1] 1\n",
      "Madrid [' Madrid', 1] 1\n",
      "Poland [' Poland', 1] 1\n",
      "goaltender [' power forward', 0] 0\n",
      "mathematics [' film', 0] 0\n",
      "Sega [' Sega', 1] 1\n",
      "politician [' composer', 0] 0\n",
      "linebacker [' of linebacker', 1] 1\n",
      "Ankara [' Toronto', 0] 0\n",
      "French [' French', 1] 1\n",
      "Victoria [' Virginia', 0] 0\n",
      "NBC [' ABC', 0] 0\n",
      "Singapore [' in Singapore', 1] 1\n",
      "Antarctica [' Antarctica', 1] 1\n",
      "Microsoft [' Microsoft', 1] 1\n",
      "soccer [' soccer', 1] 1\n",
      "Ottawa [' Ottawa', 1] 1\n",
      "CBS [' CBS', 1] 1\n",
      "Welsh [' Welsh', 1] 1\n",
      "Israel [' Israel', 1] 1\n",
      "Microsoft [' Microsoft', 1] 1\n",
      "opera [' opera', 1] 1\n",
      "actor [' actor', 1] 1\n",
      "Indonesian [' Indonesian', 1] 1\n",
      "pitcher [' goaltender', 0] 0\n",
      "chemistry [' chemistry', 1] 1\n",
      "guitar ['', 0] 0\n",
      "Russian [' Tatar', 0] 0\n",
      "Manitoba [' West Virginia', 0] 0\n",
      "guitar [' mandolin', 0] 0\n",
      "London [' New York', 0] 0\n",
      "actor [' actor', 1] 1\n",
      "Germany [' Germany', 1] 1\n",
      "piano [' trumpet', 0] 0\n",
      "Dortmund [' Berlin', 0] 0\n",
      "pitcher [' quarterback', 0] 0\n",
      "Moscow [' Vienna', 0] 0\n",
      "Fiat [' Fiat', 1] 1\n",
      "history [' chemistry', 0] 0\n",
      "Europe [' the continent of Europe', 1] 1\n",
      "Paris [' Rome', 0] 0\n",
      "guitar ['', 0] 0\n",
      "classics [' archaeology', 0] 0\n",
      "Queensland [' Brisbane', 0] 0\n",
      "Cardiff [' Cardiff', 1] 1\n",
      "Florida [' New York City', 0] 0\n",
      "French [' French', 1] 1\n",
      "Jakarta [' Dubai', 0] 0\n",
      "Asia [' the continent of Asia', 1] 1\n",
      "pitcher [' goaltender', 0] 0\n",
      "Libya [' Libya', 1] 1\n",
      "Chinese [' Chinese', 1] 1\n",
      "London [' London', 1] 1\n",
      "actor [' composer', 0] 0\n",
      "Tokyo [' Tokyo', 1] 1\n",
      "Japan [' Japan', 1] 1\n",
      "Islam [' Islam', 1] 1\n",
      "piano [' piano', 1] 1\n",
      "Tokyo [' Tokyo', 1] 1\n",
      "Argentina [' Spain', 0] 0\n",
      "London [' Toronto', 0] 0\n",
      "Lexington [' Lexington', 1] 1\n",
      "Amsterdam [' Amsterdam', 1] 1\n",
      "Judaism [' Judaism', 1] 1\n",
      "midfielder [' of forward', 0] 0\n",
      "Boeing [' Honda', 0] 0\n",
      "BBC [' BBC', 1] 1\n",
      "Vienna [' Vienna', 1] 1\n",
      "politician [' composer', 0] 0\n",
      "Berlin [' Berlin', 1] 1\n",
      "French [' French', 1] 1\n",
      "Cleveland [' Tokyo', 0] 0\n",
      "Latvia [' Latvia', 1] 1\n",
      "Dubai [' Izmir', 0] 0\n",
      "linebacker [' cornerback', 0] 0\n",
      "Newton [' Boston', 0] 0\n",
      "Ferrari [' Ferrari', 1] 1\n",
      "French [' French', 1] 1\n",
      "Geneva [' Geneva', 1] 1\n",
      "Japan [' Japan', 1] 1\n",
      "Paris [' Poissy', 0] 0\n",
      "Microsoft [' Microsoft', 1] 1\n",
      "London [' the city of London', 1] 1\n",
      "Antarctica [' the continent of Antarctica', 1] 1\n",
      "Shanghai [' Gothenburg', 0] 0\n",
      "NBC [' NBC', 1] 1\n",
      "Budapest [' Los Angeles', 0] 0\n",
      "Brisbane [' New York', 0] 0\n",
      "Oslo [' Oslo', 1] 1\n",
      "Bath [' Bilbao', 0] 0\n",
      "English [' English', 1] 1\n",
      "actor [' composer', 0] 0\n",
      "Suzuki [' Geo', 0] 0\n",
      "Iran [' Pakistan', 0] 0\n",
      "Queens [' Los Angeles', 0] 0\n",
      "guitar [' bass', 0] 0\n",
      "Seattle [' Seattle', 1] 1\n",
      "ESPN [' ESPN', 1] 1\n",
      "London [' Detroit', 0] 0\n",
      "Paris [' Paris', 1] 1\n",
      "UNESCO [' FIFA', 0] 0\n",
      "politician [' actor', 0] 0\n",
      "Italy [' Italy', 1] 1\n",
      "Paris [' Paris', 1] 1\n",
      "ESPN [' ESPN', 1] 1\n",
      "Tamil [' Tamil', 1] 1\n",
      "physician [' anthropology', 0] 0\n",
      "Berlin [' Berlin', 1] 1\n",
      "Paris [' Marseille', 0] 0\n",
      "Wichita [' Wichita', 1] 1\n",
      "baseball [' baseball', 1] 1\n",
      "Oslo [' Norway', 0] 0\n",
      "Kiev [' Barcelona', 0] 0\n",
      "French [' French', 1] 1\n",
      "Antarctica [' the continent of Antarctica', 1] 1\n",
      "physics [' physics', 1] 1\n",
      "Antarctica [' the continent of Asia', 0] 0\n",
      "Asia [' Asia', 1] 1\n",
      "theology [' religion', 0] 0\n",
      "Melbourne [' Canada', 0] 0\n",
      "Louisiana [' Texas', 0] 0\n",
      "Belfast [' Belfast', 1] 1\n",
      "CBS [' CBS', 1] 1\n",
      "Paris [' Paris', 1] 1\n",
      "Netherlands [' the Netherlands', 1] 1\n",
      "Microsoft [' Microsoft', 1] 1\n",
      "Indonesian [' Indonesian', 1] 1\n",
      "Paris [' Paris', 1] 1\n",
      "Antarctica [' Antarctica', 1] 1\n",
      "England [' Scotland', 0] 0\n",
      "Brazil [' Brazil', 1] 1\n",
      "FIFA [' FIFA', 1] 1\n",
      "Lowell [' Lowell', 1] 1\n",
      "London [' London', 1] 1\n",
      "Irish [' Irish', 1] 1\n",
      "Moscow [' Moscow', 1] 1\n",
      "London [' London', 1] 1\n",
      "Finnish [' Finnish', 1] 1\n",
      "mayor [' cardinal', 0] 0\n",
      "London [' London', 1] 1\n",
      "Seoul [' Seoul', 1] 1\n",
      "Philippines [' the Philippines', 1] 1\n",
      "Japan [' Japan', 1] 1\n",
      "midfielder [' forward', 0] 0\n",
      "Antarctica [' the continent of Antarctica', 1] 1\n",
      "Spanish [' Spanish', 1] 1\n",
      "Austria [' Austria', 1] 1\n",
      "BBC [' BBC', 1] 1\n",
      "Antarctica [' the continent of Antarctica', 1] 1\n",
      "midfielder [' midfielder', 1] 1\n",
      "Dutch [' Dutch', 1] 1\n",
      "Russia [' Russia', 1] 1\n",
      "Renault [' Renault', 1] 1\n",
      "Australia [' the United States', 0] 0\n",
      "Monaco [' Cairns', 0] 0\n",
      "Switzerland [' Switzerland', 1] 1\n",
      "French [' French', 1] 1\n",
      "Asia [' Asia', 1] 1\n",
      "linebacker [' linebacker', 1] 1\n",
      "Angeles [' Manila', 0] 0\n",
      "Munich [' Vienna', 0] 0\n",
      "Russian [' Russian', 1] 1\n",
      "Sheffield [' Tokyo', 0] 0\n",
      "bishop [' bishop', 1] 1\n",
      "mechanics [' mechanical engineering', 0] 0\n",
      "Naples [' New York City', 0] 0\n",
      "Trinity [' Chichester', 0] 0\n",
      "Finnish [' Finnish', 1] 1\n",
      "Houston [' Houston', 1] 1\n",
      "Belgium [' Belgium', 1] 1\n",
      "London [' London', 1] 1\n",
      "bishop [' bishop', 1] 1\n",
      "Ottawa [' New York', 0] 0\n",
      "Spanish [' French', 0] 0\n",
      "Prague [' Vienna', 0] 0\n",
      "Toronto [' Toronto', 1] 1\n",
      "BMW [' BMW', 1] 1\n",
      "Adobe [' Mozilla', 0] 0\n",
      "French [' the language French', 1] 1\n",
      "English [' English', 1] 1\n",
      "Boeing [' Boeing', 1] 1\n",
      "Philadelphia [' Philadelphia', 1] 1\n",
      "English [' English', 1] 1\n",
      "mathematics [' mathematics and physics', 1] 1\n",
      "poet [' composer', 0] 0\n",
      "PBS [' PBS', 1] 1\n",
      "Apple [' Apple', 1] 1\n",
      "Canada [' Canada', 1] 1\n",
      "piano [' the piano', 1] 1\n",
      "Europe [' of Europe', 1] 1\n",
      "Spain [' Spain', 1] 1\n",
      "Lyon [' Berlin', 0] 0\n",
      "Perth [' Perth', 1] 1\n",
      "Apple [' Apple', 1] 1\n",
      "French [' Spanish', 0] 0\n",
      "Boston [' Boston', 1] 1\n",
      "BMW [' BMW', 1] 1\n",
      "Nintendo [' Nintendo', 1] 1\n",
      "Antarctica [' the continent of Europe', 0] 0\n",
      "London [' Mumbai', 0] 0\n",
      "Nissan [' Nissan', 1] 1\n",
      "Japan [' the country of Japan', 1] 1\n",
      "French [' French', 1] 1\n",
      "Sheffield [' Sheffield', 1] 1\n",
      "Boeing [' BBC', 0] 0\n",
      "Arlington [' Dallas Cowboys', 0] 0\n",
      "Paris [' Paris', 1] 1\n",
      "English [' English', 1] 1\n",
      "Tamil [' Tamil', 1] 1\n",
      "Microsoft [' Microsoft', 1] 1\n",
      "Melbourne [' Melbourne', 1] 1\n",
      "science [' biology', 0] 0\n",
      "BBC [' BBC', 1] 1\n",
      "Brisbane [' Baltimore', 0] 0\n",
      "Massachusetts [' Massachusetts', 1] 1\n",
      "Antarctica [' Antarctica', 1] 1\n",
      "Canada [' Canada', 1] 1\n",
      "journalist [' composer', 0] 0\n",
      "Antarctica [' the continent of Antarctica', 1] 1\n",
      "Dublin [' Dublin', 1] 1\n",
      "Microsoft [' Microsoft', 1] 1\n",
      "Hungary [' Hungary', 1] 1\n",
      "Denmark [' Sweden', 0] 0\n",
      "Sweden [' Sweden', 1] 1\n",
      "Dallas [' Los Angeles', 0] 0\n",
      "Japan [' Japan', 1] 1\n",
      "Milan [' Abidjan', 0] 0\n",
      "Apple [' Apple', 1] 1\n",
      "French [' French', 1] 1\n",
      "French [' English', 0] 0\n",
      "London [' Dublin', 0] 0\n",
      "Antarctica [' the continent of Antarctica', 1] 1\n",
      "Australia [' Canada', 0] 0\n",
      "football [' football', 1] 1\n",
      "Philippines [' Indonesia', 0] 0\n",
      "Missouri [' Missouri', 1] 1\n",
      "Scotland [' Scotland', 1] 1\n",
      "Italian [' Spanish', 0] 0\n",
      "English [' English', 1] 1\n",
      "Berlin [' New York', 0] 0\n",
      "HBO [' PBS', 0] 0\n",
      "Antarctica [' the continent of Antarctica', 1] 1\n",
      "NBC [' NBC', 1] 1\n",
      "Madrid [' Madrid', 1] 1\n",
      "Munich [' Vienna', 0] 0\n",
      "London [' London', 1] 1\n",
      "Apple [' Apple', 1] 1\n",
      "Edinburgh [' Toronto', 0] 0\n",
      "Tamil [' Bengali', 0] 0\n",
      "Antarctica [' the continent of Antarctica', 1] 1\n",
      "Spanish [' Spanish', 1] 1\n",
      "Antarctica [' Antarctica', 1] 1\n",
      "Amsterdam [' Amsterdam', 1] 1\n",
      "piano [' the violin', 0] 0\n",
      "Antarctica [' of Antarctica', 1] 1\n",
      "France [' France', 1] 1\n",
      "outfielder [' outfielder', 1] 1\n",
      "Prague [' Prague', 1] 1\n",
      "English [' English', 1] 1\n",
      "Finnish [' Finnish', 1] 1\n",
      "Chrysler [' Chrysler', 1] 1\n",
      "Suzuki [' Suzuki', 1] 1\n",
      "violin [' violin', 1] 1\n",
      "Seattle [' Seattle', 1] 1\n"
     ]
    },
    {
     "data": {
      "text/plain": [
       "0.634"
      ]
     },
     "execution_count": 98,
     "metadata": {},
     "output_type": "execute_result"
    }
   ],
   "source": [
    "cnt =0\n",
    "for i, d in enumerate(data):\n",
    "    flag = 0\n",
    "    # print(d)\n",
    "    # if i in demo_id:\n",
    "    #     d['output'] = ['<demo>', -1]\n",
    "    #     continue\n",
    "    if normalize(d['output']) and normalize(d['requested_rewrite']['target_true']['str']) in normalize(d['output']):\n",
    "        cnt += 1\n",
    "        flag = 1\n",
    "    d['output'] = [d['output'], flag]\n",
    "    # if i%10 == 0:\n",
    "    print(d['requested_rewrite']['target_true']['str'], d['output'], flag)\n",
    "cnt/(1000)"
   ]
  },
  {
   "cell_type": "code",
   "execution_count": 2,
   "metadata": {},
   "outputs": [],
   "source": [
    "import json\n",
    "with open('counterfact_with_icl.json', 'r') as f:\n",
    "    # json.dump(data, f, indent=2)\n",
    "    data = json.load(f)"
   ]
  },
  {
   "cell_type": "code",
   "execution_count": 59,
   "metadata": {},
   "outputs": [
    {
     "data": {
      "text/plain": [
       "{'P101',\n",
       " 'P103',\n",
       " 'P106',\n",
       " 'P108',\n",
       " 'P127',\n",
       " 'P1303',\n",
       " 'P131',\n",
       " 'P136',\n",
       " 'P138',\n",
       " 'P140',\n",
       " 'P1412',\n",
       " 'P159',\n",
       " 'P17',\n",
       " 'P176',\n",
       " 'P178',\n",
       " 'P19',\n",
       " 'P190',\n",
       " 'P20',\n",
       " 'P264',\n",
       " 'P27',\n",
       " 'P276',\n",
       " 'P30',\n",
       " 'P36',\n",
       " 'P364',\n",
       " 'P37',\n",
       " 'P39',\n",
       " 'P407',\n",
       " 'P413',\n",
       " 'P449',\n",
       " 'P463',\n",
       " 'P495',\n",
       " 'P641',\n",
       " 'P740',\n",
       " 'P937'}"
      ]
     },
     "execution_count": 59,
     "metadata": {},
     "output_type": "execute_result"
    }
   ],
   "source": [
    "relations"
   ]
  },
  {
   "cell_type": "code",
   "execution_count": 18,
   "metadata": {},
   "outputs": [
    {
     "name": "stdout",
     "output_type": "stream",
     "text": [
      "21885 21885\n"
     ]
    },
    {
     "data": {
      "image/png": "[encoded data removed]",
      "text/plain": [
       "<Figure size 640x480 with 1 Axes>"
      ]
     },
     "metadata": {},
     "output_type": "display_data"
    },
    {
     "name": "stdout",
     "output_type": "stream",
     "text": [
      "pearson系数： 0.11283570886447235\n",
      "   P-Value： 6.160557630839482e-63\n"
     ]
    }
   ],
   "source": [
    "# correlation\n",
    "from matplotlib import pyplot\n",
    "import math\n",
    "from scipy.stats import pearsonr,spearmanr\n",
    "icl_recall = [ d['output'][1] for d in data ]\n",
    "with open('/data/maxb/mememe/EasyEdit/cf/wiki_freq_caseid_output_total.json', 'r') as f:\n",
    "    freq = json.load(f)\n",
    "freq = [ f['freq'] for f in freq ]\n",
    "\n",
    "icl_recall_ = []\n",
    "freq_ = []\n",
    "for i in range(len(icl_recall)):\n",
    "    if icl_recall[i] != -1:\n",
    "        icl_recall_.append(icl_recall[i])\n",
    "        freq_.append(freq[i])\n",
    "print(len(icl_recall_), len(freq_))\n",
    "# print(icl_recall_[:10], freq_[:10])\n",
    "pyplot.scatter(freq_, icl_recall_)\n",
    "pyplot.show()\n",
    "\n",
    "r = spearmanr(freq_, icl_recall_)\n",
    "print(\"pearson系数：\",r[0])\n",
    "print(\"   P-Value：\",r[1])"
   ]
  },
  {
   "cell_type": "code",
   "execution_count": 20,
   "metadata": {},
   "outputs": [],
   "source": [
    "import numpy as np\n",
    "def freq_acc(freq, icl_recall):\n",
    "    print(max(freq), min(freq), (max(freq)-min(freq))/10)\n",
    "    x_left = np.arange(0, max(freq), (max(freq)-min(freq))/10)\n",
    "    x_mid = [ xi + (max(freq)-min(freq))/20 for xi in x_left ]\n",
    "    x_left = np.append(x_left, max(freq)+0.001)\n",
    "    # print(x_left)\n",
    "    y = []\n",
    "    for i in range(len(x_mid)):\n",
    "        y.append([])\n",
    "    for i in range(len(icl_recall)):\n",
    "        if icl_recall[i] != -1 and freq[i] > 0:\n",
    "            # for j in range(len(x_left)):\n",
    "            j = 0\n",
    "            while freq[i] >= x_left[j]:\n",
    "                j += 1\n",
    "            # print(j-1, freq[i])\n",
    "            y[j-1].append(icl_recall[i])\n",
    "            # print(y)\n",
    "    y_acc = []\n",
    "    for yi in y:\n",
    "        \n",
    "        if len(yi)==0:\n",
    "            y_acc.append(0)\n",
    "        else:\n",
    "            # print('{:.2f}'.format(sum(yi)/len(yi)))\n",
    "            y_acc.append(sum(yi)/len(yi))\n",
    "    # print(x_mid, y_acc)\n",
    "    # pyplot.bar(x_mid, y_acc, (max(freq)-min(freq))/20)\n",
    "    # pyplot.show()\n",
    "    return [x_mid, y_acc, (max(freq)-min(freq))/20]\n",
    "# print(y[0])"
   ]
  },
  {
   "cell_type": "code",
   "execution_count": 92,
   "metadata": {},
   "outputs": [
    {
     "name": "stdout",
     "output_type": "stream",
     "text": [
      "0.16218805602445366\n"
     ]
    },
    {
     "data": {
      "image/png": "[encoded data removed]",
      "text/plain": [
       "<Figure size 640x480 with 1 Axes>"
      ]
     },
     "metadata": {},
     "output_type": "display_data"
    },
    {
     "data": {
      "image/png": "[encoded data removed]",
      "text/plain": [
       "<Figure size 640x480 with 2 Axes>"
      ]
     },
     "metadata": {},
     "output_type": "display_data"
    }
   ],
   "source": [
    "from scipy.stats import pearsonr,spearmanr\n",
    "with open('/data/maxb/mememe/EasyEdit/see_ppl_completion.json', 'r') as f:\n",
    "    plain = json.load(f)\n",
    "# plain_recall = [ 1 if d['target_p_generation'] == d['target_p_true'] else 0 for d in plain ]\n",
    "# plain_recall = [ d['target_p_true'] for d in plain]\n",
    "\n",
    "# freq_ = []\n",
    "# plain_recall_ = []\n",
    "# for i in range(len(freq)):\n",
    "#     if freq[i] > 0:\n",
    "#         freq_.append(freq[i])\n",
    "#         plain_recall_.append(plain_recall[i])\n",
    "\n",
    "# pyplot.scatter(freq_, plain_recall_)\n",
    "# pyplot.show()\n",
    "\n",
    "# r = spearmanr(freq_, plain_recall_)\n",
    "# print(\"pearson系数：\",r[0])\n",
    "# print(\"   P-Value：\",r[1])\n",
    "p_true = [ d['p_true'] for d in plain]\n",
    "p_new = [ d['p_new'] for d in plain]\n",
    "p_diff = [math.log(d['p_new']/ d['p_true'], 10) for d in plain]\n",
    "cnt = 0\n",
    "for pi in range(len(p_diff)):\n",
    "    if p_new[pi] <= p_true[pi]:\n",
    "        cnt+=1\n",
    "print(cnt/len(p_diff))\n",
    "# print(p_diff)\n",
    "pyplot.hist(x = p_diff,\n",
    "            bins = 60,\n",
    "            alpha=0.5,\n",
    "            density=True)\n",
    "pyplot.savefig('ppl_div_v2.pdf',  bbox_inches=\"tight\", pad_inches=0.0)\n",
    "pyplot.show()\n",
    "fig, (ax1, ax2) = pyplot.subplots(2, 1, sharex=True)\n",
    "                          \n",
    "ax1.hist(x = p_true, # 指定绘图数据\n",
    "         bins = 60, # 指定直方图中条块的个数\n",
    "         label='p_true',\n",
    "         alpha = 0.5,\n",
    "        #  density=True\n",
    "         )\n",
    "ax1.hist(x = p_new, # 指定绘图数据\n",
    "         bins = 60, # 指定直方图中条块的个数\n",
    "         label='p_new',\n",
    "         alpha = 0.5,\n",
    "        #  density=True\n",
    "         )\n",
    "ax2.hist(x = p_true, # 指定绘图数据\n",
    "         bins = 60, # 指定直方图中条块的个数\n",
    "         label='p_true',\n",
    "         alpha = 0.5,\n",
    "        #  density=True\n",
    "         )\n",
    "ax2.hist(x = p_new, # 指定绘图数据\n",
    "         bins = 60, # 指定直方图中条块的个数\n",
    "         label='p_new',\n",
    "         alpha = 0.5,\n",
    "        #  density=True\n",
    "         )\n",
    "pyplot.legend(loc='upper right')\n",
    "ax1.set_ylim(10000, 20000)  # 子图1设置y轴范围，只显示部分图\n",
    "ax2.set_ylim(0, 2000)\n",
    "ax1.spines['bottom'].set_visible(False)#关闭子图1中底部脊\n",
    "ax2.spines['top'].set_visible(False)\n",
    "d = .85\n",
    "kwargs = dict(marker=[(-1, -d), (1, d)], markersize=15,\n",
    "              linestyle='none', color='r', mec='r', mew=1, clip_on=False)\n",
    "ax1.plot([0, 1], [0, 0],transform=ax1.transAxes, **kwargs)\n",
    "ax2.plot([0, 1], [1, 1], transform=ax2.transAxes, **kwargs)\n",
    "fig.tight_layout(h_pad=0.1)\n"
   ]
  },
  {
   "cell_type": "code",
   "execution_count": 40,
   "metadata": {},
   "outputs": [
    {
     "data": {
      "text/plain": [
       "(array([3.11373899e+14, 0.00000000e+00, 2.84152126e+10, 0.00000000e+00,\n",
       "        0.00000000e+00, 0.00000000e+00, 0.00000000e+00, 0.00000000e+00,\n",
       "        0.00000000e+00, 1.42076063e+10]),\n",
       " array([0.00000000e+00, 3.21113341e-15, 6.42226683e-15, 9.63340024e-15,\n",
       "        1.28445337e-14, 1.60556671e-14, 1.92668005e-14, 2.24779339e-14,\n",
       "        2.56890673e-14, 2.89002007e-14, 3.21113341e-14]),\n",
       " <BarContainer object of 10 artists>)"
      ]
     },
     "execution_count": 40,
     "metadata": {},
     "output_type": "execute_result"
    },
    {
     "data": {
      "image/png": "[encoded data removed]",
      "text/plain": [
       "<Figure size 640x480 with 1 Axes>"
      ]
     },
     "metadata": {},
     "output_type": "display_data"
    }
   ],
   "source": [
    "with open('/data/maxb/mememe/EasyEdit/see_ppl.json', 'r') as f:\n",
    "    plain = json.load(f)\n",
    "p_true = [ d['p_true'] for d in plain]\n",
    "p_new = [ d['p_new'] for d in plain]\n",
    "pyplot.hist(x = p_true, # 指定绘图数据\n",
    "         bins = 10, # 指定直方图中条块的个数\n",
    "         label='p_true',\n",
    "         alpha = 0.5,\n",
    "         density=True\n",
    "         )\n",
    "pyplot.hist(x = p_new, # 指定绘图数据\n",
    "         bins = 10, # 指定直方图中条块的个数\n",
    "         label='p_new',\n",
    "         alpha = 0.5,\n",
    "         density=True\n",
    "         )"
   ]
  },
  {
   "cell_type": "code",
   "execution_count": 22,
   "metadata": {},
   "outputs": [
    {
     "name": "stdout",
     "output_type": "stream",
     "text": [
      "34\n",
      "P108 350\n",
      "5.8102889860521625 1.0791812460476247 0.47311077400045376\n",
      "spearman系数： 0.21973928331608059\n",
      "   P-Value： 3.4569775098466496e-05\n",
      "P176 911\n",
      "5.09915212365681 0.0 0.509915212365681\n",
      "spearman系数： 0.11024443841995762\n",
      "   P-Value： 0.0008645869971562271\n",
      "P740 774\n",
      "5.973484383108707 0.0 0.5973484383108707\n",
      "spearman系数： 0.2986730419033707\n",
      "   P-Value： 2.1580698290445066e-17\n",
      "P159 756\n",
      "5.5312425454378165 0.0 0.5531242545437817\n",
      "spearman系数： 0.21461123783261402\n",
      "   P-Value： 2.5738234450267668e-09\n",
      "P20 816\n",
      "5.169768452456512 0.0 0.5169768452456511\n",
      "spearman系数： 0.22068816118200893\n",
      "   P-Value： 1.8992815268653148e-10\n",
      "P27 958\n",
      "5.954630788104943 0.0 0.5954630788104943\n",
      "spearman系数： 0.16565328537010676\n",
      "   P-Value： 2.556684231944366e-07\n",
      "P1303 513\n",
      "5.827077060027976 0.0 0.5827077060027976\n",
      "spearman系数： 0.08440550486091104\n",
      "   P-Value： 0.05631144595667596\n",
      "P276 613\n",
      "5.844331765269657 0.0 0.5844331765269657\n",
      "spearman系数： -0.05566735343482134\n",
      "   P-Value： 0.16901196579843628\n",
      "P131 714\n",
      "5.360294188763092 0.0 0.5360294188763092\n",
      "spearman系数： 0.06222555598263621\n",
      "   P-Value： 0.09686530741773955\n",
      "P36 139\n",
      "5.834452495671729 0.0 0.5834452495671729\n",
      "spearman系数： 0.07391515786666493\n",
      "   P-Value： 0.38891438559695035\n",
      "P138 279\n",
      "5.51381135148675 0.0 0.551381135148675\n",
      "spearman系数： 0.020691712801927026\n",
      "   P-Value： 0.7312358051294181\n",
      "P364 751\n",
      "5.756763867863498 0.0 0.5756763867863498\n",
      "spearman系数： 0.20452543786876667\n",
      "   P-Value： 1.589011029827518e-08\n",
      "P495 904\n",
      "5.462060914501659 0.0 0.546206091450166\n",
      "spearman系数： 0.16722556283826973\n",
      "   P-Value： 4.3313234430733637e-07\n",
      "P101 545\n",
      "5.877211768052309 0.0 0.5877211768052308\n",
      "spearman系数： 0.058154094198393014\n",
      "   P-Value： 0.17560836645036362\n",
      "P463 163\n",
      "6.0278007949133725 0.0 0.6027800794913373\n",
      "spearman系数： -0.3200526724933212\n",
      "   P-Value： 3.298665763253717e-05\n",
      "P178 579\n",
      "6.100158861146017 0.0 0.6100158861146017\n",
      "spearman系数： 0.18462707790524013\n",
      "   P-Value： 7.910569828232956e-06\n",
      "P136 847\n",
      "5.756763867863498 0.0 0.5756763867863498\n",
      "spearman系数： 0.058562112987099485\n",
      "   P-Value： 0.08870197511796474\n",
      "P39 476\n",
      "5.03329907899142 0.0 0.503329907899142\n",
      "spearman系数： 0.2724972711574855\n",
      "   P-Value： 1.5610566200047962e-09\n",
      "P407 216\n",
      "5.790625005481788 0.0 0.5790625005481788\n",
      "spearman系数： -0.010554748783960762\n",
      "   P-Value： 0.8777161174463679\n",
      "P17 875\n",
      "5.223529686383329 0.0 0.5223529686383329\n",
      "spearman系数： -0.010959560636742324\n",
      "   P-Value： 0.7462795856847437\n",
      "P190 621\n",
      "5.856354232887329 1.6720978579357173 0.41842563749516115\n",
      "spearman系数： 0.039608132572916815\n",
      "   P-Value： 0.32480549108703494\n",
      "P30 959\n",
      "6.0278007949133725 0.0 0.6027800794913373\n",
      "spearman系数： 0.376579461503475\n",
      "   P-Value： 1.2173700669322628e-33\n",
      "P19 779\n",
      "5.5128870908045675 0.0 0.5512887090804568\n",
      "spearman系数： 0.256602709740168\n",
      "   P-Value： 3.6524011137616147e-13\n",
      "P1412 924\n",
      "5.848979367952403 0.0 0.5848979367952403\n",
      "spearman系数： -0.02686922830698965\n",
      "   P-Value： 0.4148704248056384\n",
      "P103 919\n",
      "5.954630788104943 0.0 0.5954630788104943\n",
      "spearman系数： 0.034398320134716\n",
      "   P-Value： 0.2978263156231678\n",
      "P937 846\n",
      "5.838190856319936 0.0 0.5838190856319936\n",
      "spearman系数： 0.009732500087464895\n",
      "   P-Value： 0.7775595267686799\n",
      "P106 821\n",
      "5.625715684173585 0.0 0.5625715684173584\n",
      "spearman系数： 0.17278237578026753\n",
      "   P-Value： 6.435431697238265e-07\n",
      "P449 794\n",
      "5.808034652751412 0.0 0.5808034652751413\n",
      "spearman系数： 0.3822900577092392\n",
      "   P-Value： 5.363668710863967e-29\n",
      "P641 318\n",
      "6.026144554352507 0.0 0.6026144554352507\n",
      "spearman系数： 0.1746461538461276\n",
      "   P-Value： 0.0018010060061177421\n",
      "P37 891\n",
      "6.114306003779915 0.0 0.6114306003779915\n",
      "spearman系数： -0.20150116190208958\n",
      "   P-Value： 1.3176778693072319e-09\n",
      "P127 433\n",
      "6.0870630317108825 0.0 0.6087063031710882\n",
      "spearman系数： -0.03511858060362563\n",
      "   P-Value： 0.4665917224687802\n",
      "P140 430\n",
      "5.834452495671729 0.0 0.5834452495671729\n",
      "spearman系数： 0.11329619389382838\n",
      "   P-Value： 0.018907874760046333\n",
      "P413 952\n",
      "5.7100733408277815 0.0 0.5710073340827782\n",
      "spearman系数： 0.2518747481203413\n",
      "   P-Value： 3.154702489241433e-15\n",
      "P264 53\n",
      "5.501833998783984 0.0 0.5501833998783984\n",
      "spearman系数： 0.25554721681733716\n",
      "   P-Value： 0.06747871967763201\n"
     ]
    }
   ],
   "source": [
    "from scipy.stats import spearmanr\n",
    "relations = []\n",
    "for i, d in enumerate(data):\n",
    "    relations.append(d['requested_rewrite']['relation_id'])\n",
    "    \n",
    "relations = set(relations)\n",
    "print(len(list(relations)))\n",
    "with open('/data/maxb/mememe/EasyEdit/cf/wiki_freq_caseid_output_total.json', 'r') as f:\n",
    "    freq_data = json.load(f)\n",
    "with open('/data/maxb/mememe/EasyEdit/see_logits_v2.json', 'r') as f:\n",
    "    plain = json.load(f)\n",
    "data_bins = []\n",
    "for ri in relations:\n",
    "    data_ri = []\n",
    "    for i, d in enumerate(data):\n",
    "        if d['requested_rewrite']['relation_id'] == ri:\n",
    "            data_ri.append(d)\n",
    "    data_bins.append({'relation': ri, 'data': data_ri})\n",
    "figures = []\n",
    "labels = []\n",
    "for bin in data_bins:\n",
    "    print(bin['relation'], len(bin['data']))\n",
    "    rel_path = '/data/maxb/mememe/EasyEdit/cf/graphs_json/' + bin['relation'] + '.jsonl'\n",
    "    with open(rel_path, 'r') as f:\n",
    "        for line in f:\n",
    "            rel = eval(line)['pattern']\n",
    "            break\n",
    "    label = bin['relation'] + '--' + rel\n",
    "    labels.append(label)\n",
    "    recall = []\n",
    "    plain_recall = []\n",
    "    freq = []\n",
    "    for di in bin['data'][1:]:\n",
    "        case_id = di['case_id']\n",
    "        recall.append(di['output'][1])\n",
    "        for j in range(len(freq_data)):\n",
    "            if freq_data[j]['case_id'] == case_id:\n",
    "                freq.append(freq_data[j]['freq'])\n",
    "        \n",
    "        for j in range(len(plain)):\n",
    "            if plain[j]['case_id'] == case_id:\n",
    "                plain_recall.append(1 if plain[j]['target_p_generation'] == plain[j]['target_p_true'] else 0)\n",
    "        \n",
    "    figures.append(freq_acc(freq, recall))\n",
    "    # freq_acc(freq, plain_recall)\n",
    "    # pyplot.scatter(freq, recall)\n",
    "    # pyplot.show()\n",
    "    # print(plain_recall)\n",
    "    r = spearmanr(freq, recall)\n",
    "    print(\"spearman系数：\",r[0])\n",
    "    print(\"   P-Value：\",r[1])\n",
    "    labels[-1] += ':' + '{:.2f}'.format(r[0])\n",
    "    # r = spearmanr(freq, plain_recall)\n",
    "    # print(\"spearman系数：\",r[0])\n",
    "    # print(\"   P-Value：\",r[1])\n"
   ]
  },
  {
   "cell_type": "code",
   "execution_count": 23,
   "metadata": {},
   "outputs": [
    {
     "name": "stdout",
     "output_type": "stream",
     "text": [
      "35 34\n"
     ]
    },
    {
     "data": {
      "image/png": "[encoded data removed]",
      "text/plain": [
       "<Figure size 1800x800 with 35 Axes>"
      ]
     },
     "metadata": {},
     "output_type": "display_data"
    }
   ],
   "source": [
    "fig, axs = pyplot.subplots(5,7, figsize=(18,8))\n",
    "\n",
    "# for i,fi in enumerate(figures):\n",
    "print(len(axs.flat), len(figures))\n",
    "for i, ax in enumerate(axs.flat):\n",
    "    if i >=len(figures):\n",
    "        break\n",
    "    ax.bar(figures[i][0], figures[i][1], figures[i][2])\n",
    "    ax.set_title(labels[i],fontsize=8)\n",
    "fig.tight_layout(h_pad=0.1)\n",
    "# pyplot.savefig('corr_v2.pdf')\n",
    "    # fig, (ax1,ax2,ax3,ax4,ax5,ax6,ax7,ax8,ax9,ax10,ax11,ax12,ax13,ax14,ax15,ax16,\\\n",
    "    #     ax17,ax18,ax19,ax20,ax21,ax22,ax23,ax25,ax26,ax27,ax28,ax29,ax30,ax31,ax32,ax33,ax34)= pyplot.subplots(5, 7)\n",
    "    # pyplot.bar(fi[0], fi[1], fi[2])\n",
    "    # pyplot.show()\n",
    "# pyplot.show()\n"
   ]
  },
  {
   "cell_type": "code",
   "execution_count": 79,
   "metadata": {},
   "outputs": [
    {
     "data": {
      "text/plain": [
       "<Figure size 640x480 with 0 Axes>"
      ]
     },
     "metadata": {},
     "output_type": "display_data"
    }
   ],
   "source": [
    "# for i,fi in enumerate(figures):\n",
    "#     pyplot.bar(fi[0], fi[1], fi[2])\n",
    "#     pyplot.subplot(5, 7, i + 1)\n",
    "#     pyplot.show()\n",
    "# pyplot.show()\n"
   ]
  },
  {
   "cell_type": "code",
   "execution_count": 43,
   "metadata": {},
   "outputs": [
    {
     "data": {
      "text/plain": [
       "[[0.3043531515855441,\n",
       "  0.9130594547566323,\n",
       "  1.5217657579277204,\n",
       "  2.130472061098809,\n",
       "  2.739178364269897,\n",
       "  3.347884667440985,\n",
       "  3.956590970612073,\n",
       "  4.565297273783162,\n",
       "  5.17400357695425,\n",
       "  5.782709880125338],\n",
       " [0.7272727272727273,\n",
       "  0.0,\n",
       "  0.6,\n",
       "  0.7,\n",
       "  0.7126436781609196,\n",
       "  0.5967741935483871,\n",
       "  0.6326530612244898,\n",
       "  0.6451612903225806,\n",
       "  0.6,\n",
       "  1.0],\n",
       " 0.3043531515855441]"
      ]
     },
     "execution_count": 43,
     "metadata": {},
     "output_type": "execute_result"
    }
   ],
   "source": [
    "fi"
   ]
  },
  {
   "cell_type": "code",
   "execution_count": 87,
   "metadata": {},
   "outputs": [],
   "source": [
    "def perplexity(model,tok,prompt: str,compl: str):\n",
    "    inputs = tok(\n",
    "        [prompt + compl], return_tensors=\"pt\").to(device)\n",
    "    input_token_len = tok(prompt, return_tensors=\"pt\")[\"input_ids\"].size(1)\n",
    "    # print(prompt, compl, input_token_len, inputs[\"input_ids\"].size(1))\n",
    "    with torch.no_grad():\n",
    "        logits = torch.nn.functional.log_softmax(model(**inputs).logits, dim=2)\n",
    "    log_probs = torch.gather(logits[:, :-1, :], 2, inputs[\"input_ids\"][:, 1:, None])[0]\n",
    "    log_probs = log_probs[input_token_len-1:]\n",
    "    # Perplexity = exp(-1/N * log P(x_1, ..., x_n))\n",
    "    print(inputs[\"input_ids\"][0], len(log_probs))\n",
    "    return torch.exp(-1 / (inputs[\"input_ids\"].size(1)-input_token_len) * log_probs.sum()).item()\n",
    "def icl_lm_eval(model, tokenizer, targets, x):\n",
    "    icl_examples = ''\n",
    "    ppls = [] \n",
    "    for target in targets:\n",
    "        tgt_len = len(tokenizer.encode(' ' + target))\n",
    "        print(tgt_len, tokenizer.encode(' ' + target))\n",
    "        encodings = tokenizer(''.join(icl_examples) + f'{x} {target}', return_tensors='pt')\n",
    "        input_ids = encodings['input_ids'].to(device)\n",
    "        target_ids = input_ids.clone()\n",
    "        target_ids[:, :-tgt_len] = -100\n",
    "        with torch.no_grad():\n",
    "            outputs = model(input_ids, labels=target_ids)\n",
    "            ppl = torch.exp(outputs.loss)\n",
    "            ppls.append(ppl.item())\n",
    "    return ppls"
   ]
  },
  {
   "cell_type": "code",
   "execution_count": 88,
   "metadata": {},
   "outputs": [
    {
     "name": "stdout",
     "output_type": "stream",
     "text": [
      "tensor([    1,   450,  5637, 26820,   310,  8432,   280,  7335,  2546,  1314,\n",
      "          338,  5176], device='cuda:6') 1\n",
      "1.0010545253753662\n",
      "3 [1, 29871, 5176]\n",
      "[1.4633910655975342]\n"
     ]
    },
    {
     "data": {
      "text/plain": [
       "['▁', '▁French']"
      ]
     },
     "execution_count": 88,
     "metadata": {},
     "output_type": "execute_result"
    }
   ],
   "source": [
    "print(perplexity(model, tokenizer, 'The mother tongue of Danielle Darrieux is', ' French'))\n",
    "print(icl_lm_eval(model, tokenizer, ['French'], 'The mother tongue of Danielle Darrieux is'))\n",
    "tokenizer.tokenize(' French')"
   ]
  },
  {
   "cell_type": "code",
   "execution_count": null,
   "metadata": {},
   "outputs": [],
   "source": [
    "\n"
   ]
  }
 ],
 "metadata": {
  "kernelspec": {
   "display_name": "me",
   "language": "python",
   "name": "python3"
  },
  "language_info": {
   "codemirror_mode": {
    "name": "ipython",
    "version": 3
   },
   "file_extension": ".py",
   "mimetype": "text/x-python",
   "name": "python",
   "nbconvert_exporter": "python",
   "pygments_lexer": "ipython3",
   "version": "3.9.7"
  },
  "orig_nbformat": 4
 },
 "nbformat": 4,
 "nbformat_minor": 2
}
